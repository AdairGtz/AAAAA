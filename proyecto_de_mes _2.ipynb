{
  "nbformat": 4,
  "nbformat_minor": 0,
  "metadata": {
    "colab": {
      "provenance": [],
      "authorship_tag": "ABX9TyMDIZc85wISK+MCEMyAfvcO",
      "include_colab_link": true
    },
    "kernelspec": {
      "name": "python3",
      "display_name": "Python 3"
    },
    "language_info": {
      "name": "python"
    }
  },
  "cells": [
    {
      "cell_type": "markdown",
      "metadata": {
        "id": "view-in-github",
        "colab_type": "text"
      },
      "source": [
        "<a href=\"https://colab.research.google.com/github/AdairGtz/AAAAA/blob/master/proyecto_de_mes%20_2.ipynb\" target=\"_parent\"><img src=\"https://colab.research.google.com/assets/colab-badge.svg\" alt=\"Open In Colab\"/></a>"
      ]
    },
    {
      "cell_type": "markdown",
      "source": [
        "# **Regresión**"
      ],
      "metadata": {
        "id": "mMlg9Ze7dCf9"
      }
    },
    {
      "cell_type": "code",
      "execution_count": 35,
      "metadata": {
        "id": "bsgb0Bxk3vpn"
      },
      "outputs": [],
      "source": [
        "import pandas as pd"
      ]
    },
    {
      "cell_type": "code",
      "source": [
        "df= pd.read_csv('https://raw.githubusercontent.com/AdairGtz/Practica/main/Luxury%20watch.csv')\n",
        "df.head(5)"
      ],
      "metadata": {
        "colab": {
          "base_uri": "https://localhost:8080/",
          "height": 337
        },
        "id": "T7uYVyyW3yfQ",
        "outputId": "fb3763cd-5030-49a6-e989-04e7cd21133c"
      },
      "execution_count": 36,
      "outputs": [
        {
          "output_type": "execute_result",
          "data": {
            "text/plain": [
              "       Brand       Model    Case Material   Strap Material Movement Type  \\\n",
              "0      Rolex  Submariner  Stainless Steel  Stainless Steel     Automatic   \n",
              "1      Omega   Seamaster         Titanium           Rubber     Automatic   \n",
              "2  Tag Heuer     Carrera  Stainless Steel          Leather     Automatic   \n",
              "3  Breitling   Navitimer  Stainless Steel  Stainless Steel     Automatic   \n",
              "4    Cartier   Tank Solo  Stainless Steel          Leather        Quartz   \n",
              "\n",
              "  Water Resistance  Case Diameter (mm)  Case Thickness (mm)  Band Width (mm)  \\\n",
              "0       300 meters                40.0                13.00             20.0   \n",
              "1       600 meters                43.5                14.47             21.0   \n",
              "2       100 meters                41.0                13.00             20.0   \n",
              "3        30 meters                43.0                14.25             22.0   \n",
              "4        30 meters                31.0                 6.05             20.0   \n",
              "\n",
              "  Dial Color Crystal Material Complications Power Reserve Price (USD)  \n",
              "0      Black         Sapphire          Date      48 hours       9,500  \n",
              "1       Blue         Sapphire          Date      60 hours       5,800  \n",
              "2      White         Sapphire   Chronograph      42 hours       4,200  \n",
              "3      Black         Sapphire   Chronograph      70 hours       7,900  \n",
              "4     Silver         Sapphire          None           NaN       2,800  "
            ],
            "text/html": [
              "\n",
              "  <div id=\"df-89082312-ad95-4176-bf6d-3558038bcaf4\">\n",
              "    <div class=\"colab-df-container\">\n",
              "      <div>\n",
              "<style scoped>\n",
              "    .dataframe tbody tr th:only-of-type {\n",
              "        vertical-align: middle;\n",
              "    }\n",
              "\n",
              "    .dataframe tbody tr th {\n",
              "        vertical-align: top;\n",
              "    }\n",
              "\n",
              "    .dataframe thead th {\n",
              "        text-align: right;\n",
              "    }\n",
              "</style>\n",
              "<table border=\"1\" class=\"dataframe\">\n",
              "  <thead>\n",
              "    <tr style=\"text-align: right;\">\n",
              "      <th></th>\n",
              "      <th>Brand</th>\n",
              "      <th>Model</th>\n",
              "      <th>Case Material</th>\n",
              "      <th>Strap Material</th>\n",
              "      <th>Movement Type</th>\n",
              "      <th>Water Resistance</th>\n",
              "      <th>Case Diameter (mm)</th>\n",
              "      <th>Case Thickness (mm)</th>\n",
              "      <th>Band Width (mm)</th>\n",
              "      <th>Dial Color</th>\n",
              "      <th>Crystal Material</th>\n",
              "      <th>Complications</th>\n",
              "      <th>Power Reserve</th>\n",
              "      <th>Price (USD)</th>\n",
              "    </tr>\n",
              "  </thead>\n",
              "  <tbody>\n",
              "    <tr>\n",
              "      <th>0</th>\n",
              "      <td>Rolex</td>\n",
              "      <td>Submariner</td>\n",
              "      <td>Stainless Steel</td>\n",
              "      <td>Stainless Steel</td>\n",
              "      <td>Automatic</td>\n",
              "      <td>300 meters</td>\n",
              "      <td>40.0</td>\n",
              "      <td>13.00</td>\n",
              "      <td>20.0</td>\n",
              "      <td>Black</td>\n",
              "      <td>Sapphire</td>\n",
              "      <td>Date</td>\n",
              "      <td>48 hours</td>\n",
              "      <td>9,500</td>\n",
              "    </tr>\n",
              "    <tr>\n",
              "      <th>1</th>\n",
              "      <td>Omega</td>\n",
              "      <td>Seamaster</td>\n",
              "      <td>Titanium</td>\n",
              "      <td>Rubber</td>\n",
              "      <td>Automatic</td>\n",
              "      <td>600 meters</td>\n",
              "      <td>43.5</td>\n",
              "      <td>14.47</td>\n",
              "      <td>21.0</td>\n",
              "      <td>Blue</td>\n",
              "      <td>Sapphire</td>\n",
              "      <td>Date</td>\n",
              "      <td>60 hours</td>\n",
              "      <td>5,800</td>\n",
              "    </tr>\n",
              "    <tr>\n",
              "      <th>2</th>\n",
              "      <td>Tag Heuer</td>\n",
              "      <td>Carrera</td>\n",
              "      <td>Stainless Steel</td>\n",
              "      <td>Leather</td>\n",
              "      <td>Automatic</td>\n",
              "      <td>100 meters</td>\n",
              "      <td>41.0</td>\n",
              "      <td>13.00</td>\n",
              "      <td>20.0</td>\n",
              "      <td>White</td>\n",
              "      <td>Sapphire</td>\n",
              "      <td>Chronograph</td>\n",
              "      <td>42 hours</td>\n",
              "      <td>4,200</td>\n",
              "    </tr>\n",
              "    <tr>\n",
              "      <th>3</th>\n",
              "      <td>Breitling</td>\n",
              "      <td>Navitimer</td>\n",
              "      <td>Stainless Steel</td>\n",
              "      <td>Stainless Steel</td>\n",
              "      <td>Automatic</td>\n",
              "      <td>30 meters</td>\n",
              "      <td>43.0</td>\n",
              "      <td>14.25</td>\n",
              "      <td>22.0</td>\n",
              "      <td>Black</td>\n",
              "      <td>Sapphire</td>\n",
              "      <td>Chronograph</td>\n",
              "      <td>70 hours</td>\n",
              "      <td>7,900</td>\n",
              "    </tr>\n",
              "    <tr>\n",
              "      <th>4</th>\n",
              "      <td>Cartier</td>\n",
              "      <td>Tank Solo</td>\n",
              "      <td>Stainless Steel</td>\n",
              "      <td>Leather</td>\n",
              "      <td>Quartz</td>\n",
              "      <td>30 meters</td>\n",
              "      <td>31.0</td>\n",
              "      <td>6.05</td>\n",
              "      <td>20.0</td>\n",
              "      <td>Silver</td>\n",
              "      <td>Sapphire</td>\n",
              "      <td>None</td>\n",
              "      <td>NaN</td>\n",
              "      <td>2,800</td>\n",
              "    </tr>\n",
              "  </tbody>\n",
              "</table>\n",
              "</div>\n",
              "      <button class=\"colab-df-convert\" onclick=\"convertToInteractive('df-89082312-ad95-4176-bf6d-3558038bcaf4')\"\n",
              "              title=\"Convert this dataframe to an interactive table.\"\n",
              "              style=\"display:none;\">\n",
              "        \n",
              "  <svg xmlns=\"http://www.w3.org/2000/svg\" height=\"24px\"viewBox=\"0 0 24 24\"\n",
              "       width=\"24px\">\n",
              "    <path d=\"M0 0h24v24H0V0z\" fill=\"none\"/>\n",
              "    <path d=\"M18.56 5.44l.94 2.06.94-2.06 2.06-.94-2.06-.94-.94-2.06-.94 2.06-2.06.94zm-11 1L8.5 8.5l.94-2.06 2.06-.94-2.06-.94L8.5 2.5l-.94 2.06-2.06.94zm10 10l.94 2.06.94-2.06 2.06-.94-2.06-.94-.94-2.06-.94 2.06-2.06.94z\"/><path d=\"M17.41 7.96l-1.37-1.37c-.4-.4-.92-.59-1.43-.59-.52 0-1.04.2-1.43.59L10.3 9.45l-7.72 7.72c-.78.78-.78 2.05 0 2.83L4 21.41c.39.39.9.59 1.41.59.51 0 1.02-.2 1.41-.59l7.78-7.78 2.81-2.81c.8-.78.8-2.07 0-2.86zM5.41 20L4 18.59l7.72-7.72 1.47 1.35L5.41 20z\"/>\n",
              "  </svg>\n",
              "      </button>\n",
              "      \n",
              "  <style>\n",
              "    .colab-df-container {\n",
              "      display:flex;\n",
              "      flex-wrap:wrap;\n",
              "      gap: 12px;\n",
              "    }\n",
              "\n",
              "    .colab-df-convert {\n",
              "      background-color: #E8F0FE;\n",
              "      border: none;\n",
              "      border-radius: 50%;\n",
              "      cursor: pointer;\n",
              "      display: none;\n",
              "      fill: #1967D2;\n",
              "      height: 32px;\n",
              "      padding: 0 0 0 0;\n",
              "      width: 32px;\n",
              "    }\n",
              "\n",
              "    .colab-df-convert:hover {\n",
              "      background-color: #E2EBFA;\n",
              "      box-shadow: 0px 1px 2px rgba(60, 64, 67, 0.3), 0px 1px 3px 1px rgba(60, 64, 67, 0.15);\n",
              "      fill: #174EA6;\n",
              "    }\n",
              "\n",
              "    [theme=dark] .colab-df-convert {\n",
              "      background-color: #3B4455;\n",
              "      fill: #D2E3FC;\n",
              "    }\n",
              "\n",
              "    [theme=dark] .colab-df-convert:hover {\n",
              "      background-color: #434B5C;\n",
              "      box-shadow: 0px 1px 3px 1px rgba(0, 0, 0, 0.15);\n",
              "      filter: drop-shadow(0px 1px 2px rgba(0, 0, 0, 0.3));\n",
              "      fill: #FFFFFF;\n",
              "    }\n",
              "  </style>\n",
              "\n",
              "      <script>\n",
              "        const buttonEl =\n",
              "          document.querySelector('#df-89082312-ad95-4176-bf6d-3558038bcaf4 button.colab-df-convert');\n",
              "        buttonEl.style.display =\n",
              "          google.colab.kernel.accessAllowed ? 'block' : 'none';\n",
              "\n",
              "        async function convertToInteractive(key) {\n",
              "          const element = document.querySelector('#df-89082312-ad95-4176-bf6d-3558038bcaf4');\n",
              "          const dataTable =\n",
              "            await google.colab.kernel.invokeFunction('convertToInteractive',\n",
              "                                                     [key], {});\n",
              "          if (!dataTable) return;\n",
              "\n",
              "          const docLinkHtml = 'Like what you see? Visit the ' +\n",
              "            '<a target=\"_blank\" href=https://colab.research.google.com/notebooks/data_table.ipynb>data table notebook</a>'\n",
              "            + ' to learn more about interactive tables.';\n",
              "          element.innerHTML = '';\n",
              "          dataTable['output_type'] = 'display_data';\n",
              "          await google.colab.output.renderOutput(dataTable, element);\n",
              "          const docLink = document.createElement('div');\n",
              "          docLink.innerHTML = docLinkHtml;\n",
              "          element.appendChild(docLink);\n",
              "        }\n",
              "      </script>\n",
              "    </div>\n",
              "  </div>\n",
              "  "
            ]
          },
          "metadata": {},
          "execution_count": 36
        }
      ]
    },
    {
      "cell_type": "code",
      "source": [
        "df.info()"
      ],
      "metadata": {
        "colab": {
          "base_uri": "https://localhost:8080/"
        },
        "id": "pqmx3U6G304E",
        "outputId": "2b5bda19-bb9b-4bc9-b31c-d03ffa7bd423"
      },
      "execution_count": 37,
      "outputs": [
        {
          "output_type": "stream",
          "name": "stdout",
          "text": [
            "<class 'pandas.core.frame.DataFrame'>\n",
            "RangeIndex: 507 entries, 0 to 506\n",
            "Data columns (total 14 columns):\n",
            " #   Column               Non-Null Count  Dtype  \n",
            "---  ------               --------------  -----  \n",
            " 0   Brand                507 non-null    object \n",
            " 1   Model                507 non-null    object \n",
            " 2   Case Material        507 non-null    object \n",
            " 3   Strap Material       507 non-null    object \n",
            " 4   Movement Type        507 non-null    object \n",
            " 5   Water Resistance     507 non-null    object \n",
            " 6   Case Diameter (mm)   507 non-null    float64\n",
            " 7   Case Thickness (mm)  507 non-null    float64\n",
            " 8   Band Width (mm)      507 non-null    float64\n",
            " 9   Dial Color           507 non-null    object \n",
            " 10  Crystal Material     507 non-null    object \n",
            " 11  Complications        507 non-null    object \n",
            " 12  Power Reserve        493 non-null    object \n",
            " 13  Price (USD)          506 non-null    object \n",
            "dtypes: float64(3), object(11)\n",
            "memory usage: 55.6+ KB\n"
          ]
        }
      ]
    },
    {
      "cell_type": "code",
      "source": [
        "df.isnull().sum()"
      ],
      "metadata": {
        "colab": {
          "base_uri": "https://localhost:8080/"
        },
        "id": "q7RJmDmb3321",
        "outputId": "b695e6c9-6827-4d68-c7d6-8727c316b371"
      },
      "execution_count": 38,
      "outputs": [
        {
          "output_type": "execute_result",
          "data": {
            "text/plain": [
              "Brand                   0\n",
              "Model                   0\n",
              "Case Material           0\n",
              "Strap Material          0\n",
              "Movement Type           0\n",
              "Water Resistance        0\n",
              "Case Diameter (mm)      0\n",
              "Case Thickness (mm)     0\n",
              "Band Width (mm)         0\n",
              "Dial Color              0\n",
              "Crystal Material        0\n",
              "Complications           0\n",
              "Power Reserve          14\n",
              "Price (USD)             1\n",
              "dtype: int64"
            ]
          },
          "metadata": {},
          "execution_count": 38
        }
      ]
    },
    {
      "cell_type": "code",
      "source": [
        "# tratamiento de nulos\n"
      ],
      "metadata": {
        "id": "p5DpgwOh35tR"
      },
      "execution_count": 39,
      "outputs": []
    },
    {
      "cell_type": "code",
      "source": [
        "df['Complications'].unique()"
      ],
      "metadata": {
        "colab": {
          "base_uri": "https://localhost:8080/"
        },
        "id": "bz2RpV_A3_6e",
        "outputId": "5478085e-45e0-40ab-e2fe-f8691422d572"
      },
      "execution_count": 40,
      "outputs": [
        {
          "output_type": "execute_result",
          "data": {
            "text/plain": [
              "array(['Date', 'Chronograph', 'None', 'Date, GMT',\n",
              "       'Chronograph, Tachymeter', 'GMT', 'World Time, GMT',\n",
              "       'Date, Moon Phase', 'Chronograph, Date', 'Date, Second Time Zone',\n",
              "       'Date, Unidirectional Bezel', 'Date, Power Reserve Indicator',\n",
              "       'Date, Chronograph', 'Date, Chronograph, Flyback',\n",
              "       'Date, Power Reserve, Moon Phase', 'Date, Power Reserve',\n",
              "       'Power Reserve', 'Day/Date', 'Chronograph, Moon Phase',\n",
              "       'GMT, Date', 'Date, Rotating Bezel', 'Date, Stopwatch',\n",
              "       'Date, Cyclops', 'Date, Moonphase', 'Date, Cyclops Lens',\n",
              "       'Date, Sub Seconds', 'Date, Chronograph, Moon Phase',\n",
              "       'Date, World Time', 'Dual Time Zone',\n",
              "       'Date, Chronograph, Tachymeter'], dtype=object)"
            ]
          },
          "metadata": {},
          "execution_count": 40
        }
      ]
    },
    {
      "cell_type": "code",
      "source": [
        "df['Complications'].mode()"
      ],
      "metadata": {
        "colab": {
          "base_uri": "https://localhost:8080/"
        },
        "id": "TZpVA_I54B-Y",
        "outputId": "e199ab74-d807-41c3-f8ee-c864f11fcfa7"
      },
      "execution_count": 41,
      "outputs": [
        {
          "output_type": "execute_result",
          "data": {
            "text/plain": [
              "0    Date\n",
              "Name: Complications, dtype: object"
            ]
          },
          "metadata": {},
          "execution_count": 41
        }
      ]
    },
    {
      "cell_type": "code",
      "source": [
        "df['Power Reserve'].unique()"
      ],
      "metadata": {
        "colab": {
          "base_uri": "https://localhost:8080/"
        },
        "id": "kbkRu72q4DSy",
        "outputId": "b1689ee7-b310-474f-fc90-220100dd2291"
      },
      "execution_count": 42,
      "outputs": [
        {
          "output_type": "execute_result",
          "data": {
            "text/plain": [
              "array(['48 hours', '60 hours', '42 hours', '70 hours', nan, '45 hours',\n",
              "       '50 hours', '270 days', '38 hours', '80 hours', '64 hours',\n",
              "       '40 hours', '56 hours', '4,200', '120 hours', '68 hours',\n",
              "       '54 hours', '46 hours', '72 hours', '44 hours', '210 days',\n",
              "       '65 hours', '43 hours', '41 hours', '55 hours', '168 hours'],\n",
              "      dtype=object)"
            ]
          },
          "metadata": {},
          "execution_count": 42
        }
      ]
    },
    {
      "cell_type": "code",
      "source": [
        "df['Power Reserve'].mode()"
      ],
      "metadata": {
        "colab": {
          "base_uri": "https://localhost:8080/"
        },
        "id": "8cAmq2mX4FBI",
        "outputId": "5f6bc3d0-79cd-4d17-b77f-644a6956bae8"
      },
      "execution_count": 43,
      "outputs": [
        {
          "output_type": "execute_result",
          "data": {
            "text/plain": [
              "0    60 hours\n",
              "Name: Power Reserve, dtype: object"
            ]
          },
          "metadata": {},
          "execution_count": 43
        }
      ]
    },
    {
      "cell_type": "code",
      "source": [
        "df['Price (USD)'].unique()"
      ],
      "metadata": {
        "colab": {
          "base_uri": "https://localhost:8080/"
        },
        "id": "DMmAoPmm4GoB",
        "outputId": "ae13efae-07b2-40a9-d0db-6e3c2c495f24"
      },
      "execution_count": 44,
      "outputs": [
        {
          "output_type": "execute_result",
          "data": {
            "text/plain": [
              "array(['9,500', '5,800', '4,200', '7,900', '2,800', '5,500', '1,400',\n",
              "       '1,200', '650', '495', '1,150', '1,800', '4,500', '16,000',\n",
              "       '22,000', '19,000', '3,200', '3,900', '3,500', '14,000', '4,800',\n",
              "       '7,500', nan, '6,200', '21,000', '9,000', '5,250', '8,800',\n",
              "       '17,800', '11,500', '6,500', '23,500', '10,000', '21,500', '9,800',\n",
              "       '19,900', '14,400', '12,800', '7,800', '9,200', '8,400', '1,600',\n",
              "       '29,800', '24,500', '7,950', '8,200', '9,400', '6,700', '6,100',\n",
              "       '16,300', '3,600', '8,900', '44,500', '17,000', '8,300', '12,000',\n",
              "       '6,900', '15,500', '11,200', '18,900', '49,800', '9,600', '14,700',\n",
              "       '10,600', '19,200', '5,600', '995', '545', '3,800', '1,500',\n",
              "       '2,500', '38,000', '55,000', '23,000', '8,500', '6,000', '16,500',\n",
              "       '16,800', '19,800', '47,000', '18,500', '2,200', '9,950', '4,950',\n",
              "       '13,900', '20,500', '18,000', '13,500', '26,000', '23,100',\n",
              "       '17,900', '15,200', '1,300', '2,750', '8,700', '3,350', '8,000',\n",
              "       '5,700', '34,000', '6,800', '5,300', '17,500', '15,000', '5,000',\n",
              "       '12,500', '19,500', '20,800', '13,000', '9,700', '7,400', '4,300',\n",
              "       '9,100', '20,900', '1,700', '2,600', '4,400', '595', '5,400',\n",
              "       '25,000', '20,000', '10,500', '51,000', '14,500', '6,400',\n",
              "       '20,400', '62,500', '14,900', '5,900', '2,700', '4,700', '4,600',\n",
              "       '39,500', '6,550', '3,850', '25,800', '4,100', '12,900', '8,100',\n",
              "       '44,000', '13,200', '20,200', '24,800', '4,000', '22,500',\n",
              "       '70,000', '7,200', '7,600', '57,000', '29,500', '36,500', '7,000',\n",
              "       '3,100', '4,900', '1,850', '5,350', '3,250', '14,200', '27,000',\n",
              "       '7,250', '52,000', '28,500', '39,000', '24,000', '11,000', '3,700',\n",
              "       '5,200', '40,000', '9,450', '22,300', '23,300', '23,200', '6,300',\n",
              "       '6,600', '22,900', '29,000', '38,500', '28,000', '36,000', '9,900',\n",
              "       '7,650', '67,000', '27,900', '35,000'], dtype=object)"
            ]
          },
          "metadata": {},
          "execution_count": 44
        }
      ]
    },
    {
      "cell_type": "code",
      "source": [
        "df['Price (USD)'].mode()"
      ],
      "metadata": {
        "colab": {
          "base_uri": "https://localhost:8080/"
        },
        "id": "Uht2aTJC4H-s",
        "outputId": "2134916c-1a48-470f-a9c0-88baec5ff374"
      },
      "execution_count": 45,
      "outputs": [
        {
          "output_type": "execute_result",
          "data": {
            "text/plain": [
              "0    7,500\n",
              "Name: Price (USD), dtype: object"
            ]
          },
          "metadata": {},
          "execution_count": 45
        }
      ]
    },
    {
      "cell_type": "code",
      "source": [
        "df['Complications']= df['Complications'].fillna( df['Complications'].mode()[0] )\n",
        "df['Power Reserve']= df['Power Reserve'].fillna( df['Power Reserve'].mode()[0] )\n",
        "df['Price (USD)']= df['Price (USD)'].fillna( df['Price (USD)'].mode()[0] )\n",
        "\n",
        "df.isnull().sum()"
      ],
      "metadata": {
        "colab": {
          "base_uri": "https://localhost:8080/"
        },
        "id": "awaloOpE4J2p",
        "outputId": "1cb35ff5-09bd-40ce-c999-adab84241091"
      },
      "execution_count": 46,
      "outputs": [
        {
          "output_type": "execute_result",
          "data": {
            "text/plain": [
              "Brand                  0\n",
              "Model                  0\n",
              "Case Material          0\n",
              "Strap Material         0\n",
              "Movement Type          0\n",
              "Water Resistance       0\n",
              "Case Diameter (mm)     0\n",
              "Case Thickness (mm)    0\n",
              "Band Width (mm)        0\n",
              "Dial Color             0\n",
              "Crystal Material       0\n",
              "Complications          0\n",
              "Power Reserve          0\n",
              "Price (USD)            0\n",
              "dtype: int64"
            ]
          },
          "metadata": {},
          "execution_count": 46
        }
      ]
    },
    {
      "cell_type": "code",
      "source": [
        "df.info()"
      ],
      "metadata": {
        "colab": {
          "base_uri": "https://localhost:8080/"
        },
        "id": "ykjR1WNB4LWH",
        "outputId": "6d49295c-1749-4375-f997-eac4a93aa7a0"
      },
      "execution_count": 47,
      "outputs": [
        {
          "output_type": "stream",
          "name": "stdout",
          "text": [
            "<class 'pandas.core.frame.DataFrame'>\n",
            "RangeIndex: 507 entries, 0 to 506\n",
            "Data columns (total 14 columns):\n",
            " #   Column               Non-Null Count  Dtype  \n",
            "---  ------               --------------  -----  \n",
            " 0   Brand                507 non-null    object \n",
            " 1   Model                507 non-null    object \n",
            " 2   Case Material        507 non-null    object \n",
            " 3   Strap Material       507 non-null    object \n",
            " 4   Movement Type        507 non-null    object \n",
            " 5   Water Resistance     507 non-null    object \n",
            " 6   Case Diameter (mm)   507 non-null    float64\n",
            " 7   Case Thickness (mm)  507 non-null    float64\n",
            " 8   Band Width (mm)      507 non-null    float64\n",
            " 9   Dial Color           507 non-null    object \n",
            " 10  Crystal Material     507 non-null    object \n",
            " 11  Complications        507 non-null    object \n",
            " 12  Power Reserve        507 non-null    object \n",
            " 13  Price (USD)          507 non-null    object \n",
            "dtypes: float64(3), object(11)\n",
            "memory usage: 55.6+ KB\n"
          ]
        }
      ]
    },
    {
      "cell_type": "code",
      "source": [
        "from sklearn.preprocessing import OrdinalEncoder\n",
        "encoder = OrdinalEncoder()\n",
        "\n",
        "df['Brand'] = encoder.fit_transform(df[['Brand']])\n",
        "df['Model'] = encoder.fit_transform(df[['Model']])\n",
        "df['Case Material'] = encoder.fit_transform(df[['Case Material']])\n",
        "df['Strap Material'] = encoder.fit_transform(df[['Strap Material']])\n",
        "df['Movement Type'] = encoder.fit_transform(df[['Movement Type']])\n",
        "df['Water Resistance'] = encoder.fit_transform(df[['Water Resistance']])\n",
        "df['Dial Color'] = encoder.fit_transform(df[['Dial Color']])\n",
        "df['Crystal Material'] = encoder.fit_transform(df[['Crystal Material']])\n",
        "df['Complications'] = encoder.fit_transform(df[['Complications']])\n",
        "df['Power Reserve'] = encoder.fit_transform(df[['Power Reserve']])\n",
        "\n",
        "df['Price (USD)'] = encoder.fit_transform(df[['Price (USD)']])\n",
        "\n",
        "df.head(5)"
      ],
      "metadata": {
        "colab": {
          "base_uri": "https://localhost:8080/",
          "height": 267
        },
        "id": "6XbzBJeh4NIJ",
        "outputId": "4d38e7c5-e55a-43c3-d87a-49505e3df83b"
      },
      "execution_count": 48,
      "outputs": [
        {
          "output_type": "execute_result",
          "data": {
            "text/plain": [
              "   Brand  Model  Case Material  Strap Material  Movement Type  \\\n",
              "0   29.0   85.0           13.0            11.0            0.0   \n",
              "1   23.0   80.0           14.0             9.0            0.0   \n",
              "2   33.0   16.0           13.0             5.0            0.0   \n",
              "3    7.0   59.0           13.0            11.0            0.0   \n",
              "4   10.0   89.0           13.0             5.0            3.0   \n",
              "\n",
              "   Water Resistance  Case Diameter (mm)  Case Thickness (mm)  Band Width (mm)  \\\n",
              "0               7.0                40.0                13.00             20.0   \n",
              "1              11.0                43.5                14.47             21.0   \n",
              "2               0.0                41.0                13.00             20.0   \n",
              "3               6.0                43.0                14.25             22.0   \n",
              "4               6.0                31.0                 6.05             20.0   \n",
              "\n",
              "   Dial Color  Crystal Material  Complications  Power Reserve  Price (USD)  \n",
              "0         0.0               3.0            4.0           13.0        175.0  \n",
              "1         1.0               3.0            4.0           18.0        128.0  \n",
              "2         6.0               3.0            0.0            8.0        104.0  \n",
              "3         0.0               3.0            0.0           22.0        158.0  \n",
              "4         5.0               3.0           27.0           18.0         53.0  "
            ],
            "text/html": [
              "\n",
              "  <div id=\"df-1b2a696b-637a-47fb-ae65-2a795b6f26e4\">\n",
              "    <div class=\"colab-df-container\">\n",
              "      <div>\n",
              "<style scoped>\n",
              "    .dataframe tbody tr th:only-of-type {\n",
              "        vertical-align: middle;\n",
              "    }\n",
              "\n",
              "    .dataframe tbody tr th {\n",
              "        vertical-align: top;\n",
              "    }\n",
              "\n",
              "    .dataframe thead th {\n",
              "        text-align: right;\n",
              "    }\n",
              "</style>\n",
              "<table border=\"1\" class=\"dataframe\">\n",
              "  <thead>\n",
              "    <tr style=\"text-align: right;\">\n",
              "      <th></th>\n",
              "      <th>Brand</th>\n",
              "      <th>Model</th>\n",
              "      <th>Case Material</th>\n",
              "      <th>Strap Material</th>\n",
              "      <th>Movement Type</th>\n",
              "      <th>Water Resistance</th>\n",
              "      <th>Case Diameter (mm)</th>\n",
              "      <th>Case Thickness (mm)</th>\n",
              "      <th>Band Width (mm)</th>\n",
              "      <th>Dial Color</th>\n",
              "      <th>Crystal Material</th>\n",
              "      <th>Complications</th>\n",
              "      <th>Power Reserve</th>\n",
              "      <th>Price (USD)</th>\n",
              "    </tr>\n",
              "  </thead>\n",
              "  <tbody>\n",
              "    <tr>\n",
              "      <th>0</th>\n",
              "      <td>29.0</td>\n",
              "      <td>85.0</td>\n",
              "      <td>13.0</td>\n",
              "      <td>11.0</td>\n",
              "      <td>0.0</td>\n",
              "      <td>7.0</td>\n",
              "      <td>40.0</td>\n",
              "      <td>13.00</td>\n",
              "      <td>20.0</td>\n",
              "      <td>0.0</td>\n",
              "      <td>3.0</td>\n",
              "      <td>4.0</td>\n",
              "      <td>13.0</td>\n",
              "      <td>175.0</td>\n",
              "    </tr>\n",
              "    <tr>\n",
              "      <th>1</th>\n",
              "      <td>23.0</td>\n",
              "      <td>80.0</td>\n",
              "      <td>14.0</td>\n",
              "      <td>9.0</td>\n",
              "      <td>0.0</td>\n",
              "      <td>11.0</td>\n",
              "      <td>43.5</td>\n",
              "      <td>14.47</td>\n",
              "      <td>21.0</td>\n",
              "      <td>1.0</td>\n",
              "      <td>3.0</td>\n",
              "      <td>4.0</td>\n",
              "      <td>18.0</td>\n",
              "      <td>128.0</td>\n",
              "    </tr>\n",
              "    <tr>\n",
              "      <th>2</th>\n",
              "      <td>33.0</td>\n",
              "      <td>16.0</td>\n",
              "      <td>13.0</td>\n",
              "      <td>5.0</td>\n",
              "      <td>0.0</td>\n",
              "      <td>0.0</td>\n",
              "      <td>41.0</td>\n",
              "      <td>13.00</td>\n",
              "      <td>20.0</td>\n",
              "      <td>6.0</td>\n",
              "      <td>3.0</td>\n",
              "      <td>0.0</td>\n",
              "      <td>8.0</td>\n",
              "      <td>104.0</td>\n",
              "    </tr>\n",
              "    <tr>\n",
              "      <th>3</th>\n",
              "      <td>7.0</td>\n",
              "      <td>59.0</td>\n",
              "      <td>13.0</td>\n",
              "      <td>11.0</td>\n",
              "      <td>0.0</td>\n",
              "      <td>6.0</td>\n",
              "      <td>43.0</td>\n",
              "      <td>14.25</td>\n",
              "      <td>22.0</td>\n",
              "      <td>0.0</td>\n",
              "      <td>3.0</td>\n",
              "      <td>0.0</td>\n",
              "      <td>22.0</td>\n",
              "      <td>158.0</td>\n",
              "    </tr>\n",
              "    <tr>\n",
              "      <th>4</th>\n",
              "      <td>10.0</td>\n",
              "      <td>89.0</td>\n",
              "      <td>13.0</td>\n",
              "      <td>5.0</td>\n",
              "      <td>3.0</td>\n",
              "      <td>6.0</td>\n",
              "      <td>31.0</td>\n",
              "      <td>6.05</td>\n",
              "      <td>20.0</td>\n",
              "      <td>5.0</td>\n",
              "      <td>3.0</td>\n",
              "      <td>27.0</td>\n",
              "      <td>18.0</td>\n",
              "      <td>53.0</td>\n",
              "    </tr>\n",
              "  </tbody>\n",
              "</table>\n",
              "</div>\n",
              "      <button class=\"colab-df-convert\" onclick=\"convertToInteractive('df-1b2a696b-637a-47fb-ae65-2a795b6f26e4')\"\n",
              "              title=\"Convert this dataframe to an interactive table.\"\n",
              "              style=\"display:none;\">\n",
              "        \n",
              "  <svg xmlns=\"http://www.w3.org/2000/svg\" height=\"24px\"viewBox=\"0 0 24 24\"\n",
              "       width=\"24px\">\n",
              "    <path d=\"M0 0h24v24H0V0z\" fill=\"none\"/>\n",
              "    <path d=\"M18.56 5.44l.94 2.06.94-2.06 2.06-.94-2.06-.94-.94-2.06-.94 2.06-2.06.94zm-11 1L8.5 8.5l.94-2.06 2.06-.94-2.06-.94L8.5 2.5l-.94 2.06-2.06.94zm10 10l.94 2.06.94-2.06 2.06-.94-2.06-.94-.94-2.06-.94 2.06-2.06.94z\"/><path d=\"M17.41 7.96l-1.37-1.37c-.4-.4-.92-.59-1.43-.59-.52 0-1.04.2-1.43.59L10.3 9.45l-7.72 7.72c-.78.78-.78 2.05 0 2.83L4 21.41c.39.39.9.59 1.41.59.51 0 1.02-.2 1.41-.59l7.78-7.78 2.81-2.81c.8-.78.8-2.07 0-2.86zM5.41 20L4 18.59l7.72-7.72 1.47 1.35L5.41 20z\"/>\n",
              "  </svg>\n",
              "      </button>\n",
              "      \n",
              "  <style>\n",
              "    .colab-df-container {\n",
              "      display:flex;\n",
              "      flex-wrap:wrap;\n",
              "      gap: 12px;\n",
              "    }\n",
              "\n",
              "    .colab-df-convert {\n",
              "      background-color: #E8F0FE;\n",
              "      border: none;\n",
              "      border-radius: 50%;\n",
              "      cursor: pointer;\n",
              "      display: none;\n",
              "      fill: #1967D2;\n",
              "      height: 32px;\n",
              "      padding: 0 0 0 0;\n",
              "      width: 32px;\n",
              "    }\n",
              "\n",
              "    .colab-df-convert:hover {\n",
              "      background-color: #E2EBFA;\n",
              "      box-shadow: 0px 1px 2px rgba(60, 64, 67, 0.3), 0px 1px 3px 1px rgba(60, 64, 67, 0.15);\n",
              "      fill: #174EA6;\n",
              "    }\n",
              "\n",
              "    [theme=dark] .colab-df-convert {\n",
              "      background-color: #3B4455;\n",
              "      fill: #D2E3FC;\n",
              "    }\n",
              "\n",
              "    [theme=dark] .colab-df-convert:hover {\n",
              "      background-color: #434B5C;\n",
              "      box-shadow: 0px 1px 3px 1px rgba(0, 0, 0, 0.15);\n",
              "      filter: drop-shadow(0px 1px 2px rgba(0, 0, 0, 0.3));\n",
              "      fill: #FFFFFF;\n",
              "    }\n",
              "  </style>\n",
              "\n",
              "      <script>\n",
              "        const buttonEl =\n",
              "          document.querySelector('#df-1b2a696b-637a-47fb-ae65-2a795b6f26e4 button.colab-df-convert');\n",
              "        buttonEl.style.display =\n",
              "          google.colab.kernel.accessAllowed ? 'block' : 'none';\n",
              "\n",
              "        async function convertToInteractive(key) {\n",
              "          const element = document.querySelector('#df-1b2a696b-637a-47fb-ae65-2a795b6f26e4');\n",
              "          const dataTable =\n",
              "            await google.colab.kernel.invokeFunction('convertToInteractive',\n",
              "                                                     [key], {});\n",
              "          if (!dataTable) return;\n",
              "\n",
              "          const docLinkHtml = 'Like what you see? Visit the ' +\n",
              "            '<a target=\"_blank\" href=https://colab.research.google.com/notebooks/data_table.ipynb>data table notebook</a>'\n",
              "            + ' to learn more about interactive tables.';\n",
              "          element.innerHTML = '';\n",
              "          dataTable['output_type'] = 'display_data';\n",
              "          await google.colab.output.renderOutput(dataTable, element);\n",
              "          const docLink = document.createElement('div');\n",
              "          docLink.innerHTML = docLinkHtml;\n",
              "          element.appendChild(docLink);\n",
              "        }\n",
              "      </script>\n",
              "    </div>\n",
              "  </div>\n",
              "  "
            ]
          },
          "metadata": {},
          "execution_count": 48
        }
      ]
    },
    {
      "cell_type": "code",
      "source": [
        "from sklearn.preprocessing import MinMaxScaler\n",
        "scaler = MinMaxScaler()\n",
        "df['Brand'] = scaler.fit_transform(df[['Brand']])\n",
        "df['Model'] = scaler.fit_transform(df[['Model']])\n",
        "df['Case Material'] = scaler.fit_transform(df[['Case Material']])\n",
        "df['Strap Material'] = scaler.fit_transform(df[['Strap Material']])\n",
        "df['Movement Type'] = scaler.fit_transform(df[['Movement Type']])\n",
        "df['Water Resistance'] = scaler.fit_transform(df[['Water Resistance']])\n",
        "df['Dial Color'] = scaler.fit_transform(df[['Dial Color']])\n",
        "df['Crystal Material'] = scaler.fit_transform(df[['Crystal Material']])\n",
        "df['Complications'] = scaler.fit_transform(df[['Complications']])\n",
        "df['Power Reserve'] = scaler.fit_transform(df[['Power Reserve']])\n",
        "#df['Price (USD)'] = scaler.fit_transform(df[['Price (USD)']])\n",
        "\n",
        "\n",
        "df['Case Diameter (mm)'] = scaler.fit_transform(df[['Case Diameter (mm)']])\n",
        "df['Case Thickness (mm)'] = scaler.fit_transform(df[['Case Thickness (mm)']])\n",
        "df['Band Width (mm)'] = scaler.fit_transform(df[['Band Width (mm)']])\n",
        "\n",
        "df.head(5)"
      ],
      "metadata": {
        "colab": {
          "base_uri": "https://localhost:8080/",
          "height": 267
        },
        "id": "tmUrwGTs4PW5",
        "outputId": "9769c4f2-d614-4791-e289-fb8638baccbe"
      },
      "execution_count": 54,
      "outputs": [
        {
          "output_type": "execute_result",
          "data": {
            "text/plain": [
              "      Brand     Model  Case Material  Strap Material  Movement Type  \\\n",
              "0  0.763158  0.904255         0.8125        0.846154            0.0   \n",
              "1  0.605263  0.851064         0.8750        0.692308            0.0   \n",
              "2  0.868421  0.170213         0.8125        0.384615            0.0   \n",
              "3  0.184211  0.627660         0.8125        0.846154            0.0   \n",
              "4  0.263158  0.946809         0.8125        0.384615            1.0   \n",
              "\n",
              "   Water Resistance  Case Diameter (mm)  Case Thickness (mm)  Band Width (mm)  \\\n",
              "0          0.636364            0.657895               0.6400         0.384615   \n",
              "1          1.000000            0.842105               0.7576         0.461538   \n",
              "2          0.000000            0.710526               0.6400         0.384615   \n",
              "3          0.545455            0.815789               0.7400         0.538462   \n",
              "4          0.545455            0.184211               0.0840         0.384615   \n",
              "\n",
              "   Dial Color  Crystal Material  Complications  Power Reserve  Price (USD)  \n",
              "0    0.000000               1.0       0.137931       0.541667        175.0  \n",
              "1    0.166667               1.0       0.137931       0.750000        128.0  \n",
              "2    1.000000               1.0       0.000000       0.333333        104.0  \n",
              "3    0.000000               1.0       0.000000       0.916667        158.0  \n",
              "4    0.833333               1.0       0.931034       0.750000         53.0  "
            ],
            "text/html": [
              "\n",
              "  <div id=\"df-46a29303-3f90-4f8c-8db0-66902a74794f\">\n",
              "    <div class=\"colab-df-container\">\n",
              "      <div>\n",
              "<style scoped>\n",
              "    .dataframe tbody tr th:only-of-type {\n",
              "        vertical-align: middle;\n",
              "    }\n",
              "\n",
              "    .dataframe tbody tr th {\n",
              "        vertical-align: top;\n",
              "    }\n",
              "\n",
              "    .dataframe thead th {\n",
              "        text-align: right;\n",
              "    }\n",
              "</style>\n",
              "<table border=\"1\" class=\"dataframe\">\n",
              "  <thead>\n",
              "    <tr style=\"text-align: right;\">\n",
              "      <th></th>\n",
              "      <th>Brand</th>\n",
              "      <th>Model</th>\n",
              "      <th>Case Material</th>\n",
              "      <th>Strap Material</th>\n",
              "      <th>Movement Type</th>\n",
              "      <th>Water Resistance</th>\n",
              "      <th>Case Diameter (mm)</th>\n",
              "      <th>Case Thickness (mm)</th>\n",
              "      <th>Band Width (mm)</th>\n",
              "      <th>Dial Color</th>\n",
              "      <th>Crystal Material</th>\n",
              "      <th>Complications</th>\n",
              "      <th>Power Reserve</th>\n",
              "      <th>Price (USD)</th>\n",
              "    </tr>\n",
              "  </thead>\n",
              "  <tbody>\n",
              "    <tr>\n",
              "      <th>0</th>\n",
              "      <td>0.763158</td>\n",
              "      <td>0.904255</td>\n",
              "      <td>0.8125</td>\n",
              "      <td>0.846154</td>\n",
              "      <td>0.0</td>\n",
              "      <td>0.636364</td>\n",
              "      <td>0.657895</td>\n",
              "      <td>0.6400</td>\n",
              "      <td>0.384615</td>\n",
              "      <td>0.000000</td>\n",
              "      <td>1.0</td>\n",
              "      <td>0.137931</td>\n",
              "      <td>0.541667</td>\n",
              "      <td>175.0</td>\n",
              "    </tr>\n",
              "    <tr>\n",
              "      <th>1</th>\n",
              "      <td>0.605263</td>\n",
              "      <td>0.851064</td>\n",
              "      <td>0.8750</td>\n",
              "      <td>0.692308</td>\n",
              "      <td>0.0</td>\n",
              "      <td>1.000000</td>\n",
              "      <td>0.842105</td>\n",
              "      <td>0.7576</td>\n",
              "      <td>0.461538</td>\n",
              "      <td>0.166667</td>\n",
              "      <td>1.0</td>\n",
              "      <td>0.137931</td>\n",
              "      <td>0.750000</td>\n",
              "      <td>128.0</td>\n",
              "    </tr>\n",
              "    <tr>\n",
              "      <th>2</th>\n",
              "      <td>0.868421</td>\n",
              "      <td>0.170213</td>\n",
              "      <td>0.8125</td>\n",
              "      <td>0.384615</td>\n",
              "      <td>0.0</td>\n",
              "      <td>0.000000</td>\n",
              "      <td>0.710526</td>\n",
              "      <td>0.6400</td>\n",
              "      <td>0.384615</td>\n",
              "      <td>1.000000</td>\n",
              "      <td>1.0</td>\n",
              "      <td>0.000000</td>\n",
              "      <td>0.333333</td>\n",
              "      <td>104.0</td>\n",
              "    </tr>\n",
              "    <tr>\n",
              "      <th>3</th>\n",
              "      <td>0.184211</td>\n",
              "      <td>0.627660</td>\n",
              "      <td>0.8125</td>\n",
              "      <td>0.846154</td>\n",
              "      <td>0.0</td>\n",
              "      <td>0.545455</td>\n",
              "      <td>0.815789</td>\n",
              "      <td>0.7400</td>\n",
              "      <td>0.538462</td>\n",
              "      <td>0.000000</td>\n",
              "      <td>1.0</td>\n",
              "      <td>0.000000</td>\n",
              "      <td>0.916667</td>\n",
              "      <td>158.0</td>\n",
              "    </tr>\n",
              "    <tr>\n",
              "      <th>4</th>\n",
              "      <td>0.263158</td>\n",
              "      <td>0.946809</td>\n",
              "      <td>0.8125</td>\n",
              "      <td>0.384615</td>\n",
              "      <td>1.0</td>\n",
              "      <td>0.545455</td>\n",
              "      <td>0.184211</td>\n",
              "      <td>0.0840</td>\n",
              "      <td>0.384615</td>\n",
              "      <td>0.833333</td>\n",
              "      <td>1.0</td>\n",
              "      <td>0.931034</td>\n",
              "      <td>0.750000</td>\n",
              "      <td>53.0</td>\n",
              "    </tr>\n",
              "  </tbody>\n",
              "</table>\n",
              "</div>\n",
              "      <button class=\"colab-df-convert\" onclick=\"convertToInteractive('df-46a29303-3f90-4f8c-8db0-66902a74794f')\"\n",
              "              title=\"Convert this dataframe to an interactive table.\"\n",
              "              style=\"display:none;\">\n",
              "        \n",
              "  <svg xmlns=\"http://www.w3.org/2000/svg\" height=\"24px\"viewBox=\"0 0 24 24\"\n",
              "       width=\"24px\">\n",
              "    <path d=\"M0 0h24v24H0V0z\" fill=\"none\"/>\n",
              "    <path d=\"M18.56 5.44l.94 2.06.94-2.06 2.06-.94-2.06-.94-.94-2.06-.94 2.06-2.06.94zm-11 1L8.5 8.5l.94-2.06 2.06-.94-2.06-.94L8.5 2.5l-.94 2.06-2.06.94zm10 10l.94 2.06.94-2.06 2.06-.94-2.06-.94-.94-2.06-.94 2.06-2.06.94z\"/><path d=\"M17.41 7.96l-1.37-1.37c-.4-.4-.92-.59-1.43-.59-.52 0-1.04.2-1.43.59L10.3 9.45l-7.72 7.72c-.78.78-.78 2.05 0 2.83L4 21.41c.39.39.9.59 1.41.59.51 0 1.02-.2 1.41-.59l7.78-7.78 2.81-2.81c.8-.78.8-2.07 0-2.86zM5.41 20L4 18.59l7.72-7.72 1.47 1.35L5.41 20z\"/>\n",
              "  </svg>\n",
              "      </button>\n",
              "      \n",
              "  <style>\n",
              "    .colab-df-container {\n",
              "      display:flex;\n",
              "      flex-wrap:wrap;\n",
              "      gap: 12px;\n",
              "    }\n",
              "\n",
              "    .colab-df-convert {\n",
              "      background-color: #E8F0FE;\n",
              "      border: none;\n",
              "      border-radius: 50%;\n",
              "      cursor: pointer;\n",
              "      display: none;\n",
              "      fill: #1967D2;\n",
              "      height: 32px;\n",
              "      padding: 0 0 0 0;\n",
              "      width: 32px;\n",
              "    }\n",
              "\n",
              "    .colab-df-convert:hover {\n",
              "      background-color: #E2EBFA;\n",
              "      box-shadow: 0px 1px 2px rgba(60, 64, 67, 0.3), 0px 1px 3px 1px rgba(60, 64, 67, 0.15);\n",
              "      fill: #174EA6;\n",
              "    }\n",
              "\n",
              "    [theme=dark] .colab-df-convert {\n",
              "      background-color: #3B4455;\n",
              "      fill: #D2E3FC;\n",
              "    }\n",
              "\n",
              "    [theme=dark] .colab-df-convert:hover {\n",
              "      background-color: #434B5C;\n",
              "      box-shadow: 0px 1px 3px 1px rgba(0, 0, 0, 0.15);\n",
              "      filter: drop-shadow(0px 1px 2px rgba(0, 0, 0, 0.3));\n",
              "      fill: #FFFFFF;\n",
              "    }\n",
              "  </style>\n",
              "\n",
              "      <script>\n",
              "        const buttonEl =\n",
              "          document.querySelector('#df-46a29303-3f90-4f8c-8db0-66902a74794f button.colab-df-convert');\n",
              "        buttonEl.style.display =\n",
              "          google.colab.kernel.accessAllowed ? 'block' : 'none';\n",
              "\n",
              "        async function convertToInteractive(key) {\n",
              "          const element = document.querySelector('#df-46a29303-3f90-4f8c-8db0-66902a74794f');\n",
              "          const dataTable =\n",
              "            await google.colab.kernel.invokeFunction('convertToInteractive',\n",
              "                                                     [key], {});\n",
              "          if (!dataTable) return;\n",
              "\n",
              "          const docLinkHtml = 'Like what you see? Visit the ' +\n",
              "            '<a target=\"_blank\" href=https://colab.research.google.com/notebooks/data_table.ipynb>data table notebook</a>'\n",
              "            + ' to learn more about interactive tables.';\n",
              "          element.innerHTML = '';\n",
              "          dataTable['output_type'] = 'display_data';\n",
              "          await google.colab.output.renderOutput(dataTable, element);\n",
              "          const docLink = document.createElement('div');\n",
              "          docLink.innerHTML = docLinkHtml;\n",
              "          element.appendChild(docLink);\n",
              "        }\n",
              "      </script>\n",
              "    </div>\n",
              "  </div>\n",
              "  "
            ]
          },
          "metadata": {},
          "execution_count": 54
        }
      ]
    },
    {
      "cell_type": "code",
      "source": [],
      "metadata": {
        "id": "iOk7Tu7i5Fqz"
      },
      "execution_count": 54,
      "outputs": []
    },
    {
      "cell_type": "code",
      "source": [
        "X = df.drop('Price (USD)', axis=1)\n",
        "y = df['Price (USD)']"
      ],
      "metadata": {
        "id": "MJhX53An4Rvy"
      },
      "execution_count": 244,
      "outputs": []
    },
    {
      "cell_type": "code",
      "source": [
        "X.head(10)"
      ],
      "metadata": {
        "colab": {
          "base_uri": "https://localhost:8080/",
          "height": 424
        },
        "id": "WpT99HSl4V0M",
        "outputId": "15567743-8ceb-4cb4-c7c1-c306943cfa27"
      },
      "execution_count": 245,
      "outputs": [
        {
          "output_type": "execute_result",
          "data": {
            "text/plain": [
              "      Brand     Model  Case Material  Strap Material  Movement Type  \\\n",
              "0  0.763158  0.904255         0.8125        0.846154       0.000000   \n",
              "1  0.605263  0.851064         0.8750        0.692308       0.000000   \n",
              "2  0.868421  0.170213         0.8125        0.384615       0.000000   \n",
              "3  0.184211  0.627660         0.8125        0.846154       0.000000   \n",
              "4  0.263158  0.946809         0.8125        0.384615       1.000000   \n",
              "5  0.500000  0.787234         0.8125        0.384615       0.666667   \n",
              "6  0.789474  0.776596         0.8125        0.692308       0.000000   \n",
              "7  0.315789  0.765957         0.8125        0.846154       0.333333   \n",
              "8  0.894737  0.478723         0.8125        0.384615       0.000000   \n",
              "9  0.421053  0.446809         0.8125        0.384615       0.000000   \n",
              "\n",
              "   Water Resistance  Case Diameter (mm)  Case Thickness (mm)  Band Width (mm)  \\\n",
              "0          0.636364            0.657895               0.6400         0.384615   \n",
              "1          1.000000            0.842105               0.7576         0.461538   \n",
              "2          0.000000            0.710526               0.6400         0.384615   \n",
              "3          0.545455            0.815789               0.7400         0.538462   \n",
              "4          0.545455            0.184211               0.0840         0.384615   \n",
              "5          0.545455            0.810526               0.3360         0.384615   \n",
              "6          0.363636            0.884211               0.6320         0.384615   \n",
              "7          0.363636            0.763158               0.6400         0.538462   \n",
              "8          0.545455            0.621053               0.3800         0.307692   \n",
              "9          0.000000            0.552632               0.3840         0.384615   \n",
              "\n",
              "   Dial Color  Crystal Material  Complications  Power Reserve  \n",
              "0    0.000000          1.000000       0.137931       0.541667  \n",
              "1    0.166667          1.000000       0.137931       0.750000  \n",
              "2    1.000000          1.000000       0.000000       0.333333  \n",
              "3    0.000000          1.000000       0.000000       0.916667  \n",
              "4    0.833333          1.000000       0.931034       0.750000  \n",
              "5    0.000000          1.000000       0.931034       0.458333  \n",
              "6    0.000000          1.000000       0.137931       0.583333  \n",
              "7    0.000000          0.666667       0.000000       0.125000  \n",
              "8    1.000000          1.000000       0.137931       0.166667  \n",
              "9    0.000000          1.000000       0.931034       1.000000  "
            ],
            "text/html": [
              "\n",
              "  <div id=\"df-b919944d-b9e2-45b2-add9-6ad998d91510\">\n",
              "    <div class=\"colab-df-container\">\n",
              "      <div>\n",
              "<style scoped>\n",
              "    .dataframe tbody tr th:only-of-type {\n",
              "        vertical-align: middle;\n",
              "    }\n",
              "\n",
              "    .dataframe tbody tr th {\n",
              "        vertical-align: top;\n",
              "    }\n",
              "\n",
              "    .dataframe thead th {\n",
              "        text-align: right;\n",
              "    }\n",
              "</style>\n",
              "<table border=\"1\" class=\"dataframe\">\n",
              "  <thead>\n",
              "    <tr style=\"text-align: right;\">\n",
              "      <th></th>\n",
              "      <th>Brand</th>\n",
              "      <th>Model</th>\n",
              "      <th>Case Material</th>\n",
              "      <th>Strap Material</th>\n",
              "      <th>Movement Type</th>\n",
              "      <th>Water Resistance</th>\n",
              "      <th>Case Diameter (mm)</th>\n",
              "      <th>Case Thickness (mm)</th>\n",
              "      <th>Band Width (mm)</th>\n",
              "      <th>Dial Color</th>\n",
              "      <th>Crystal Material</th>\n",
              "      <th>Complications</th>\n",
              "      <th>Power Reserve</th>\n",
              "    </tr>\n",
              "  </thead>\n",
              "  <tbody>\n",
              "    <tr>\n",
              "      <th>0</th>\n",
              "      <td>0.763158</td>\n",
              "      <td>0.904255</td>\n",
              "      <td>0.8125</td>\n",
              "      <td>0.846154</td>\n",
              "      <td>0.000000</td>\n",
              "      <td>0.636364</td>\n",
              "      <td>0.657895</td>\n",
              "      <td>0.6400</td>\n",
              "      <td>0.384615</td>\n",
              "      <td>0.000000</td>\n",
              "      <td>1.000000</td>\n",
              "      <td>0.137931</td>\n",
              "      <td>0.541667</td>\n",
              "    </tr>\n",
              "    <tr>\n",
              "      <th>1</th>\n",
              "      <td>0.605263</td>\n",
              "      <td>0.851064</td>\n",
              "      <td>0.8750</td>\n",
              "      <td>0.692308</td>\n",
              "      <td>0.000000</td>\n",
              "      <td>1.000000</td>\n",
              "      <td>0.842105</td>\n",
              "      <td>0.7576</td>\n",
              "      <td>0.461538</td>\n",
              "      <td>0.166667</td>\n",
              "      <td>1.000000</td>\n",
              "      <td>0.137931</td>\n",
              "      <td>0.750000</td>\n",
              "    </tr>\n",
              "    <tr>\n",
              "      <th>2</th>\n",
              "      <td>0.868421</td>\n",
              "      <td>0.170213</td>\n",
              "      <td>0.8125</td>\n",
              "      <td>0.384615</td>\n",
              "      <td>0.000000</td>\n",
              "      <td>0.000000</td>\n",
              "      <td>0.710526</td>\n",
              "      <td>0.6400</td>\n",
              "      <td>0.384615</td>\n",
              "      <td>1.000000</td>\n",
              "      <td>1.000000</td>\n",
              "      <td>0.000000</td>\n",
              "      <td>0.333333</td>\n",
              "    </tr>\n",
              "    <tr>\n",
              "      <th>3</th>\n",
              "      <td>0.184211</td>\n",
              "      <td>0.627660</td>\n",
              "      <td>0.8125</td>\n",
              "      <td>0.846154</td>\n",
              "      <td>0.000000</td>\n",
              "      <td>0.545455</td>\n",
              "      <td>0.815789</td>\n",
              "      <td>0.7400</td>\n",
              "      <td>0.538462</td>\n",
              "      <td>0.000000</td>\n",
              "      <td>1.000000</td>\n",
              "      <td>0.000000</td>\n",
              "      <td>0.916667</td>\n",
              "    </tr>\n",
              "    <tr>\n",
              "      <th>4</th>\n",
              "      <td>0.263158</td>\n",
              "      <td>0.946809</td>\n",
              "      <td>0.8125</td>\n",
              "      <td>0.384615</td>\n",
              "      <td>1.000000</td>\n",
              "      <td>0.545455</td>\n",
              "      <td>0.184211</td>\n",
              "      <td>0.0840</td>\n",
              "      <td>0.384615</td>\n",
              "      <td>0.833333</td>\n",
              "      <td>1.000000</td>\n",
              "      <td>0.931034</td>\n",
              "      <td>0.750000</td>\n",
              "    </tr>\n",
              "    <tr>\n",
              "      <th>5</th>\n",
              "      <td>0.500000</td>\n",
              "      <td>0.787234</td>\n",
              "      <td>0.8125</td>\n",
              "      <td>0.384615</td>\n",
              "      <td>0.666667</td>\n",
              "      <td>0.545455</td>\n",
              "      <td>0.810526</td>\n",
              "      <td>0.3360</td>\n",
              "      <td>0.384615</td>\n",
              "      <td>0.000000</td>\n",
              "      <td>1.000000</td>\n",
              "      <td>0.931034</td>\n",
              "      <td>0.458333</td>\n",
              "    </tr>\n",
              "    <tr>\n",
              "      <th>6</th>\n",
              "      <td>0.789474</td>\n",
              "      <td>0.776596</td>\n",
              "      <td>0.8125</td>\n",
              "      <td>0.692308</td>\n",
              "      <td>0.000000</td>\n",
              "      <td>0.363636</td>\n",
              "      <td>0.884211</td>\n",
              "      <td>0.6320</td>\n",
              "      <td>0.384615</td>\n",
              "      <td>0.000000</td>\n",
              "      <td>1.000000</td>\n",
              "      <td>0.137931</td>\n",
              "      <td>0.583333</td>\n",
              "    </tr>\n",
              "    <tr>\n",
              "      <th>7</th>\n",
              "      <td>0.315789</td>\n",
              "      <td>0.765957</td>\n",
              "      <td>0.8125</td>\n",
              "      <td>0.846154</td>\n",
              "      <td>0.333333</td>\n",
              "      <td>0.363636</td>\n",
              "      <td>0.763158</td>\n",
              "      <td>0.6400</td>\n",
              "      <td>0.538462</td>\n",
              "      <td>0.000000</td>\n",
              "      <td>0.666667</td>\n",
              "      <td>0.000000</td>\n",
              "      <td>0.125000</td>\n",
              "    </tr>\n",
              "    <tr>\n",
              "      <th>8</th>\n",
              "      <td>0.894737</td>\n",
              "      <td>0.478723</td>\n",
              "      <td>0.8125</td>\n",
              "      <td>0.384615</td>\n",
              "      <td>0.000000</td>\n",
              "      <td>0.545455</td>\n",
              "      <td>0.621053</td>\n",
              "      <td>0.3800</td>\n",
              "      <td>0.307692</td>\n",
              "      <td>1.000000</td>\n",
              "      <td>1.000000</td>\n",
              "      <td>0.137931</td>\n",
              "      <td>0.166667</td>\n",
              "    </tr>\n",
              "    <tr>\n",
              "      <th>9</th>\n",
              "      <td>0.421053</td>\n",
              "      <td>0.446809</td>\n",
              "      <td>0.8125</td>\n",
              "      <td>0.384615</td>\n",
              "      <td>0.000000</td>\n",
              "      <td>0.000000</td>\n",
              "      <td>0.552632</td>\n",
              "      <td>0.3840</td>\n",
              "      <td>0.384615</td>\n",
              "      <td>0.000000</td>\n",
              "      <td>1.000000</td>\n",
              "      <td>0.931034</td>\n",
              "      <td>1.000000</td>\n",
              "    </tr>\n",
              "  </tbody>\n",
              "</table>\n",
              "</div>\n",
              "      <button class=\"colab-df-convert\" onclick=\"convertToInteractive('df-b919944d-b9e2-45b2-add9-6ad998d91510')\"\n",
              "              title=\"Convert this dataframe to an interactive table.\"\n",
              "              style=\"display:none;\">\n",
              "        \n",
              "  <svg xmlns=\"http://www.w3.org/2000/svg\" height=\"24px\"viewBox=\"0 0 24 24\"\n",
              "       width=\"24px\">\n",
              "    <path d=\"M0 0h24v24H0V0z\" fill=\"none\"/>\n",
              "    <path d=\"M18.56 5.44l.94 2.06.94-2.06 2.06-.94-2.06-.94-.94-2.06-.94 2.06-2.06.94zm-11 1L8.5 8.5l.94-2.06 2.06-.94-2.06-.94L8.5 2.5l-.94 2.06-2.06.94zm10 10l.94 2.06.94-2.06 2.06-.94-2.06-.94-.94-2.06-.94 2.06-2.06.94z\"/><path d=\"M17.41 7.96l-1.37-1.37c-.4-.4-.92-.59-1.43-.59-.52 0-1.04.2-1.43.59L10.3 9.45l-7.72 7.72c-.78.78-.78 2.05 0 2.83L4 21.41c.39.39.9.59 1.41.59.51 0 1.02-.2 1.41-.59l7.78-7.78 2.81-2.81c.8-.78.8-2.07 0-2.86zM5.41 20L4 18.59l7.72-7.72 1.47 1.35L5.41 20z\"/>\n",
              "  </svg>\n",
              "      </button>\n",
              "      \n",
              "  <style>\n",
              "    .colab-df-container {\n",
              "      display:flex;\n",
              "      flex-wrap:wrap;\n",
              "      gap: 12px;\n",
              "    }\n",
              "\n",
              "    .colab-df-convert {\n",
              "      background-color: #E8F0FE;\n",
              "      border: none;\n",
              "      border-radius: 50%;\n",
              "      cursor: pointer;\n",
              "      display: none;\n",
              "      fill: #1967D2;\n",
              "      height: 32px;\n",
              "      padding: 0 0 0 0;\n",
              "      width: 32px;\n",
              "    }\n",
              "\n",
              "    .colab-df-convert:hover {\n",
              "      background-color: #E2EBFA;\n",
              "      box-shadow: 0px 1px 2px rgba(60, 64, 67, 0.3), 0px 1px 3px 1px rgba(60, 64, 67, 0.15);\n",
              "      fill: #174EA6;\n",
              "    }\n",
              "\n",
              "    [theme=dark] .colab-df-convert {\n",
              "      background-color: #3B4455;\n",
              "      fill: #D2E3FC;\n",
              "    }\n",
              "\n",
              "    [theme=dark] .colab-df-convert:hover {\n",
              "      background-color: #434B5C;\n",
              "      box-shadow: 0px 1px 3px 1px rgba(0, 0, 0, 0.15);\n",
              "      filter: drop-shadow(0px 1px 2px rgba(0, 0, 0, 0.3));\n",
              "      fill: #FFFFFF;\n",
              "    }\n",
              "  </style>\n",
              "\n",
              "      <script>\n",
              "        const buttonEl =\n",
              "          document.querySelector('#df-b919944d-b9e2-45b2-add9-6ad998d91510 button.colab-df-convert');\n",
              "        buttonEl.style.display =\n",
              "          google.colab.kernel.accessAllowed ? 'block' : 'none';\n",
              "\n",
              "        async function convertToInteractive(key) {\n",
              "          const element = document.querySelector('#df-b919944d-b9e2-45b2-add9-6ad998d91510');\n",
              "          const dataTable =\n",
              "            await google.colab.kernel.invokeFunction('convertToInteractive',\n",
              "                                                     [key], {});\n",
              "          if (!dataTable) return;\n",
              "\n",
              "          const docLinkHtml = 'Like what you see? Visit the ' +\n",
              "            '<a target=\"_blank\" href=https://colab.research.google.com/notebooks/data_table.ipynb>data table notebook</a>'\n",
              "            + ' to learn more about interactive tables.';\n",
              "          element.innerHTML = '';\n",
              "          dataTable['output_type'] = 'display_data';\n",
              "          await google.colab.output.renderOutput(dataTable, element);\n",
              "          const docLink = document.createElement('div');\n",
              "          docLink.innerHTML = docLinkHtml;\n",
              "          element.appendChild(docLink);\n",
              "        }\n",
              "      </script>\n",
              "    </div>\n",
              "  </div>\n",
              "  "
            ]
          },
          "metadata": {},
          "execution_count": 245
        }
      ]
    },
    {
      "cell_type": "code",
      "source": [
        "y.head(10)"
      ],
      "metadata": {
        "colab": {
          "base_uri": "https://localhost:8080/"
        },
        "id": "M7g3E0Om4XYm",
        "outputId": "9ce0ca89-2cdf-4880-b399-aa2971c0bbb5"
      },
      "execution_count": 246,
      "outputs": [
        {
          "output_type": "execute_result",
          "data": {
            "text/plain": [
              "0    175.0\n",
              "1    128.0\n",
              "2    104.0\n",
              "3    158.0\n",
              "4     53.0\n",
              "5    125.0\n",
              "6      3.0\n",
              "7      1.0\n",
              "8    148.0\n",
              "9    118.0\n",
              "Name: Price (USD), dtype: float64"
            ]
          },
          "metadata": {},
          "execution_count": 246
        }
      ]
    },
    {
      "cell_type": "code",
      "source": [
        "import pandas as pd\n",
        "import tensorflow as tf\n",
        "from sklearn.model_selection import train_test_split\n",
        "from sklearn.preprocessing import LabelEncoder, MinMaxScaler"
      ],
      "metadata": {
        "id": "CLR24VLV4Yzd"
      },
      "execution_count": 247,
      "outputs": []
    },
    {
      "cell_type": "code",
      "source": [
        "correlations = abs(df.corr()['Price (USD)'].drop('Price (USD)'))\n",
        "\n",
        "# Ordenar las características por su correlación con la variable objetivo\n",
        "sorted_features = correlations.sort_values(ascending=False)\n",
        "\n",
        "print(sorted_features)"
      ],
      "metadata": {
        "colab": {
          "base_uri": "https://localhost:8080/"
        },
        "id": "3vaaEa9v4dIA",
        "outputId": "5ea768ce-e2c0-4c72-e636-e90a155be248"
      },
      "execution_count": 248,
      "outputs": [
        {
          "output_type": "stream",
          "name": "stdout",
          "text": [
            "Brand                  0.275767\n",
            "Power Reserve          0.267379\n",
            "Case Material          0.230217\n",
            "Model                  0.133686\n",
            "Case Thickness (mm)    0.130832\n",
            "Water Resistance       0.125966\n",
            "Movement Type          0.104119\n",
            "Dial Color             0.070290\n",
            "Strap Material         0.028403\n",
            "Case Diameter (mm)     0.022562\n",
            "Band Width (mm)        0.012207\n",
            "Complications          0.003944\n",
            "Crystal Material       0.003642\n",
            "Name: Price (USD), dtype: float64\n"
          ]
        }
      ]
    },
    {
      "cell_type": "code",
      "source": [
        "X_1 = df.iloc[:, [0,7,1,12]]"
      ],
      "metadata": {
        "id": "ub0gPbzW6afE"
      },
      "execution_count": 249,
      "outputs": []
    },
    {
      "cell_type": "code",
      "source": [
        "y_1=df['Price (USD)']"
      ],
      "metadata": {
        "id": "mINxsKt49pdK"
      },
      "execution_count": 250,
      "outputs": []
    },
    {
      "cell_type": "code",
      "source": [
        "\n",
        "X_1.head(5)"
      ],
      "metadata": {
        "colab": {
          "base_uri": "https://localhost:8080/",
          "height": 206
        },
        "id": "dwB4RxTT9uAG",
        "outputId": "10f6c9a6-3ef0-49e2-956d-b22bd2d3e1fe"
      },
      "execution_count": 251,
      "outputs": [
        {
          "output_type": "execute_result",
          "data": {
            "text/plain": [
              "      Brand  Case Thickness (mm)     Model  Power Reserve\n",
              "0  0.763158               0.6400  0.904255       0.541667\n",
              "1  0.605263               0.7576  0.851064       0.750000\n",
              "2  0.868421               0.6400  0.170213       0.333333\n",
              "3  0.184211               0.7400  0.627660       0.916667\n",
              "4  0.263158               0.0840  0.946809       0.750000"
            ],
            "text/html": [
              "\n",
              "  <div id=\"df-97bf84a4-1525-4562-8b18-ca858f5ed80d\">\n",
              "    <div class=\"colab-df-container\">\n",
              "      <div>\n",
              "<style scoped>\n",
              "    .dataframe tbody tr th:only-of-type {\n",
              "        vertical-align: middle;\n",
              "    }\n",
              "\n",
              "    .dataframe tbody tr th {\n",
              "        vertical-align: top;\n",
              "    }\n",
              "\n",
              "    .dataframe thead th {\n",
              "        text-align: right;\n",
              "    }\n",
              "</style>\n",
              "<table border=\"1\" class=\"dataframe\">\n",
              "  <thead>\n",
              "    <tr style=\"text-align: right;\">\n",
              "      <th></th>\n",
              "      <th>Brand</th>\n",
              "      <th>Case Thickness (mm)</th>\n",
              "      <th>Model</th>\n",
              "      <th>Power Reserve</th>\n",
              "    </tr>\n",
              "  </thead>\n",
              "  <tbody>\n",
              "    <tr>\n",
              "      <th>0</th>\n",
              "      <td>0.763158</td>\n",
              "      <td>0.6400</td>\n",
              "      <td>0.904255</td>\n",
              "      <td>0.541667</td>\n",
              "    </tr>\n",
              "    <tr>\n",
              "      <th>1</th>\n",
              "      <td>0.605263</td>\n",
              "      <td>0.7576</td>\n",
              "      <td>0.851064</td>\n",
              "      <td>0.750000</td>\n",
              "    </tr>\n",
              "    <tr>\n",
              "      <th>2</th>\n",
              "      <td>0.868421</td>\n",
              "      <td>0.6400</td>\n",
              "      <td>0.170213</td>\n",
              "      <td>0.333333</td>\n",
              "    </tr>\n",
              "    <tr>\n",
              "      <th>3</th>\n",
              "      <td>0.184211</td>\n",
              "      <td>0.7400</td>\n",
              "      <td>0.627660</td>\n",
              "      <td>0.916667</td>\n",
              "    </tr>\n",
              "    <tr>\n",
              "      <th>4</th>\n",
              "      <td>0.263158</td>\n",
              "      <td>0.0840</td>\n",
              "      <td>0.946809</td>\n",
              "      <td>0.750000</td>\n",
              "    </tr>\n",
              "  </tbody>\n",
              "</table>\n",
              "</div>\n",
              "      <button class=\"colab-df-convert\" onclick=\"convertToInteractive('df-97bf84a4-1525-4562-8b18-ca858f5ed80d')\"\n",
              "              title=\"Convert this dataframe to an interactive table.\"\n",
              "              style=\"display:none;\">\n",
              "        \n",
              "  <svg xmlns=\"http://www.w3.org/2000/svg\" height=\"24px\"viewBox=\"0 0 24 24\"\n",
              "       width=\"24px\">\n",
              "    <path d=\"M0 0h24v24H0V0z\" fill=\"none\"/>\n",
              "    <path d=\"M18.56 5.44l.94 2.06.94-2.06 2.06-.94-2.06-.94-.94-2.06-.94 2.06-2.06.94zm-11 1L8.5 8.5l.94-2.06 2.06-.94-2.06-.94L8.5 2.5l-.94 2.06-2.06.94zm10 10l.94 2.06.94-2.06 2.06-.94-2.06-.94-.94-2.06-.94 2.06-2.06.94z\"/><path d=\"M17.41 7.96l-1.37-1.37c-.4-.4-.92-.59-1.43-.59-.52 0-1.04.2-1.43.59L10.3 9.45l-7.72 7.72c-.78.78-.78 2.05 0 2.83L4 21.41c.39.39.9.59 1.41.59.51 0 1.02-.2 1.41-.59l7.78-7.78 2.81-2.81c.8-.78.8-2.07 0-2.86zM5.41 20L4 18.59l7.72-7.72 1.47 1.35L5.41 20z\"/>\n",
              "  </svg>\n",
              "      </button>\n",
              "      \n",
              "  <style>\n",
              "    .colab-df-container {\n",
              "      display:flex;\n",
              "      flex-wrap:wrap;\n",
              "      gap: 12px;\n",
              "    }\n",
              "\n",
              "    .colab-df-convert {\n",
              "      background-color: #E8F0FE;\n",
              "      border: none;\n",
              "      border-radius: 50%;\n",
              "      cursor: pointer;\n",
              "      display: none;\n",
              "      fill: #1967D2;\n",
              "      height: 32px;\n",
              "      padding: 0 0 0 0;\n",
              "      width: 32px;\n",
              "    }\n",
              "\n",
              "    .colab-df-convert:hover {\n",
              "      background-color: #E2EBFA;\n",
              "      box-shadow: 0px 1px 2px rgba(60, 64, 67, 0.3), 0px 1px 3px 1px rgba(60, 64, 67, 0.15);\n",
              "      fill: #174EA6;\n",
              "    }\n",
              "\n",
              "    [theme=dark] .colab-df-convert {\n",
              "      background-color: #3B4455;\n",
              "      fill: #D2E3FC;\n",
              "    }\n",
              "\n",
              "    [theme=dark] .colab-df-convert:hover {\n",
              "      background-color: #434B5C;\n",
              "      box-shadow: 0px 1px 3px 1px rgba(0, 0, 0, 0.15);\n",
              "      filter: drop-shadow(0px 1px 2px rgba(0, 0, 0, 0.3));\n",
              "      fill: #FFFFFF;\n",
              "    }\n",
              "  </style>\n",
              "\n",
              "      <script>\n",
              "        const buttonEl =\n",
              "          document.querySelector('#df-97bf84a4-1525-4562-8b18-ca858f5ed80d button.colab-df-convert');\n",
              "        buttonEl.style.display =\n",
              "          google.colab.kernel.accessAllowed ? 'block' : 'none';\n",
              "\n",
              "        async function convertToInteractive(key) {\n",
              "          const element = document.querySelector('#df-97bf84a4-1525-4562-8b18-ca858f5ed80d');\n",
              "          const dataTable =\n",
              "            await google.colab.kernel.invokeFunction('convertToInteractive',\n",
              "                                                     [key], {});\n",
              "          if (!dataTable) return;\n",
              "\n",
              "          const docLinkHtml = 'Like what you see? Visit the ' +\n",
              "            '<a target=\"_blank\" href=https://colab.research.google.com/notebooks/data_table.ipynb>data table notebook</a>'\n",
              "            + ' to learn more about interactive tables.';\n",
              "          element.innerHTML = '';\n",
              "          dataTable['output_type'] = 'display_data';\n",
              "          await google.colab.output.renderOutput(dataTable, element);\n",
              "          const docLink = document.createElement('div');\n",
              "          docLink.innerHTML = docLinkHtml;\n",
              "          element.appendChild(docLink);\n",
              "        }\n",
              "      </script>\n",
              "    </div>\n",
              "  </div>\n",
              "  "
            ]
          },
          "metadata": {},
          "execution_count": 251
        }
      ]
    },
    {
      "cell_type": "code",
      "source": [
        "from sklearn.model_selection import train_test_split\n",
        "x1_train,x1_test, y1_train, y1_test = train_test_split(X_1,y,test_size=0.2,random_state=42)"
      ],
      "metadata": {
        "id": "YaBm05S2990P"
      },
      "execution_count": 252,
      "outputs": []
    },
    {
      "cell_type": "code",
      "source": [
        "from sklearn.ensemble import RandomForestRegressor\n",
        "modelo=RandomForestRegressor()\n",
        "modelo.fit(x1_train,y1_train)"
      ],
      "metadata": {
        "colab": {
          "base_uri": "https://localhost:8080/",
          "height": 74
        },
        "id": "5kZzDptY-EIS",
        "outputId": "63125335-86f6-43b1-9c65-be3f8dea416b"
      },
      "execution_count": 253,
      "outputs": [
        {
          "output_type": "execute_result",
          "data": {
            "text/plain": [
              "RandomForestRegressor()"
            ],
            "text/html": [
              "<style>#sk-container-id-28 {color: black;background-color: white;}#sk-container-id-28 pre{padding: 0;}#sk-container-id-28 div.sk-toggleable {background-color: white;}#sk-container-id-28 label.sk-toggleable__label {cursor: pointer;display: block;width: 100%;margin-bottom: 0;padding: 0.3em;box-sizing: border-box;text-align: center;}#sk-container-id-28 label.sk-toggleable__label-arrow:before {content: \"▸\";float: left;margin-right: 0.25em;color: #696969;}#sk-container-id-28 label.sk-toggleable__label-arrow:hover:before {color: black;}#sk-container-id-28 div.sk-estimator:hover label.sk-toggleable__label-arrow:before {color: black;}#sk-container-id-28 div.sk-toggleable__content {max-height: 0;max-width: 0;overflow: hidden;text-align: left;background-color: #f0f8ff;}#sk-container-id-28 div.sk-toggleable__content pre {margin: 0.2em;color: black;border-radius: 0.25em;background-color: #f0f8ff;}#sk-container-id-28 input.sk-toggleable__control:checked~div.sk-toggleable__content {max-height: 200px;max-width: 100%;overflow: auto;}#sk-container-id-28 input.sk-toggleable__control:checked~label.sk-toggleable__label-arrow:before {content: \"▾\";}#sk-container-id-28 div.sk-estimator input.sk-toggleable__control:checked~label.sk-toggleable__label {background-color: #d4ebff;}#sk-container-id-28 div.sk-label input.sk-toggleable__control:checked~label.sk-toggleable__label {background-color: #d4ebff;}#sk-container-id-28 input.sk-hidden--visually {border: 0;clip: rect(1px 1px 1px 1px);clip: rect(1px, 1px, 1px, 1px);height: 1px;margin: -1px;overflow: hidden;padding: 0;position: absolute;width: 1px;}#sk-container-id-28 div.sk-estimator {font-family: monospace;background-color: #f0f8ff;border: 1px dotted black;border-radius: 0.25em;box-sizing: border-box;margin-bottom: 0.5em;}#sk-container-id-28 div.sk-estimator:hover {background-color: #d4ebff;}#sk-container-id-28 div.sk-parallel-item::after {content: \"\";width: 100%;border-bottom: 1px solid gray;flex-grow: 1;}#sk-container-id-28 div.sk-label:hover label.sk-toggleable__label {background-color: #d4ebff;}#sk-container-id-28 div.sk-serial::before {content: \"\";position: absolute;border-left: 1px solid gray;box-sizing: border-box;top: 0;bottom: 0;left: 50%;z-index: 0;}#sk-container-id-28 div.sk-serial {display: flex;flex-direction: column;align-items: center;background-color: white;padding-right: 0.2em;padding-left: 0.2em;position: relative;}#sk-container-id-28 div.sk-item {position: relative;z-index: 1;}#sk-container-id-28 div.sk-parallel {display: flex;align-items: stretch;justify-content: center;background-color: white;position: relative;}#sk-container-id-28 div.sk-item::before, #sk-container-id-28 div.sk-parallel-item::before {content: \"\";position: absolute;border-left: 1px solid gray;box-sizing: border-box;top: 0;bottom: 0;left: 50%;z-index: -1;}#sk-container-id-28 div.sk-parallel-item {display: flex;flex-direction: column;z-index: 1;position: relative;background-color: white;}#sk-container-id-28 div.sk-parallel-item:first-child::after {align-self: flex-end;width: 50%;}#sk-container-id-28 div.sk-parallel-item:last-child::after {align-self: flex-start;width: 50%;}#sk-container-id-28 div.sk-parallel-item:only-child::after {width: 0;}#sk-container-id-28 div.sk-dashed-wrapped {border: 1px dashed gray;margin: 0 0.4em 0.5em 0.4em;box-sizing: border-box;padding-bottom: 0.4em;background-color: white;}#sk-container-id-28 div.sk-label label {font-family: monospace;font-weight: bold;display: inline-block;line-height: 1.2em;}#sk-container-id-28 div.sk-label-container {text-align: center;}#sk-container-id-28 div.sk-container {/* jupyter's `normalize.less` sets `[hidden] { display: none; }` but bootstrap.min.css set `[hidden] { display: none !important; }` so we also need the `!important` here to be able to override the default hidden behavior on the sphinx rendered scikit-learn.org. See: https://github.com/scikit-learn/scikit-learn/issues/21755 */display: inline-block !important;position: relative;}#sk-container-id-28 div.sk-text-repr-fallback {display: none;}</style><div id=\"sk-container-id-28\" class=\"sk-top-container\"><div class=\"sk-text-repr-fallback\"><pre>RandomForestRegressor()</pre><b>In a Jupyter environment, please rerun this cell to show the HTML representation or trust the notebook. <br />On GitHub, the HTML representation is unable to render, please try loading this page with nbviewer.org.</b></div><div class=\"sk-container\" hidden><div class=\"sk-item\"><div class=\"sk-estimator sk-toggleable\"><input class=\"sk-toggleable__control sk-hidden--visually\" id=\"sk-estimator-id-28\" type=\"checkbox\" checked><label for=\"sk-estimator-id-28\" class=\"sk-toggleable__label sk-toggleable__label-arrow\">RandomForestRegressor</label><div class=\"sk-toggleable__content\"><pre>RandomForestRegressor()</pre></div></div></div></div></div>"
            ]
          },
          "metadata": {},
          "execution_count": 253
        }
      ]
    },
    {
      "cell_type": "code",
      "source": [
        "from sklearn.neural_network import MLPRegressor\n",
        "from sklearn.preprocessing import StandardScaler\n",
        "from sklearn.model_selection import train_test_split\n",
        "\n",
        "\n",
        "\n",
        "model = MLPRegressor(hidden_layer_sizes=(100, 50), activation='relu',  max_iter=1000)\n",
        "\n",
        "\n",
        "model.fit(x1_train, y1_train)"
      ],
      "metadata": {
        "colab": {
          "base_uri": "https://localhost:8080/",
          "height": 74
        },
        "id": "0av8EXA0-F9x",
        "outputId": "cc070a98-719d-41fb-b029-54aa0f6d94dc"
      },
      "execution_count": 254,
      "outputs": [
        {
          "output_type": "execute_result",
          "data": {
            "text/plain": [
              "MLPRegressor(hidden_layer_sizes=(100, 50), max_iter=1000)"
            ],
            "text/html": [
              "<style>#sk-container-id-29 {color: black;background-color: white;}#sk-container-id-29 pre{padding: 0;}#sk-container-id-29 div.sk-toggleable {background-color: white;}#sk-container-id-29 label.sk-toggleable__label {cursor: pointer;display: block;width: 100%;margin-bottom: 0;padding: 0.3em;box-sizing: border-box;text-align: center;}#sk-container-id-29 label.sk-toggleable__label-arrow:before {content: \"▸\";float: left;margin-right: 0.25em;color: #696969;}#sk-container-id-29 label.sk-toggleable__label-arrow:hover:before {color: black;}#sk-container-id-29 div.sk-estimator:hover label.sk-toggleable__label-arrow:before {color: black;}#sk-container-id-29 div.sk-toggleable__content {max-height: 0;max-width: 0;overflow: hidden;text-align: left;background-color: #f0f8ff;}#sk-container-id-29 div.sk-toggleable__content pre {margin: 0.2em;color: black;border-radius: 0.25em;background-color: #f0f8ff;}#sk-container-id-29 input.sk-toggleable__control:checked~div.sk-toggleable__content {max-height: 200px;max-width: 100%;overflow: auto;}#sk-container-id-29 input.sk-toggleable__control:checked~label.sk-toggleable__label-arrow:before {content: \"▾\";}#sk-container-id-29 div.sk-estimator input.sk-toggleable__control:checked~label.sk-toggleable__label {background-color: #d4ebff;}#sk-container-id-29 div.sk-label input.sk-toggleable__control:checked~label.sk-toggleable__label {background-color: #d4ebff;}#sk-container-id-29 input.sk-hidden--visually {border: 0;clip: rect(1px 1px 1px 1px);clip: rect(1px, 1px, 1px, 1px);height: 1px;margin: -1px;overflow: hidden;padding: 0;position: absolute;width: 1px;}#sk-container-id-29 div.sk-estimator {font-family: monospace;background-color: #f0f8ff;border: 1px dotted black;border-radius: 0.25em;box-sizing: border-box;margin-bottom: 0.5em;}#sk-container-id-29 div.sk-estimator:hover {background-color: #d4ebff;}#sk-container-id-29 div.sk-parallel-item::after {content: \"\";width: 100%;border-bottom: 1px solid gray;flex-grow: 1;}#sk-container-id-29 div.sk-label:hover label.sk-toggleable__label {background-color: #d4ebff;}#sk-container-id-29 div.sk-serial::before {content: \"\";position: absolute;border-left: 1px solid gray;box-sizing: border-box;top: 0;bottom: 0;left: 50%;z-index: 0;}#sk-container-id-29 div.sk-serial {display: flex;flex-direction: column;align-items: center;background-color: white;padding-right: 0.2em;padding-left: 0.2em;position: relative;}#sk-container-id-29 div.sk-item {position: relative;z-index: 1;}#sk-container-id-29 div.sk-parallel {display: flex;align-items: stretch;justify-content: center;background-color: white;position: relative;}#sk-container-id-29 div.sk-item::before, #sk-container-id-29 div.sk-parallel-item::before {content: \"\";position: absolute;border-left: 1px solid gray;box-sizing: border-box;top: 0;bottom: 0;left: 50%;z-index: -1;}#sk-container-id-29 div.sk-parallel-item {display: flex;flex-direction: column;z-index: 1;position: relative;background-color: white;}#sk-container-id-29 div.sk-parallel-item:first-child::after {align-self: flex-end;width: 50%;}#sk-container-id-29 div.sk-parallel-item:last-child::after {align-self: flex-start;width: 50%;}#sk-container-id-29 div.sk-parallel-item:only-child::after {width: 0;}#sk-container-id-29 div.sk-dashed-wrapped {border: 1px dashed gray;margin: 0 0.4em 0.5em 0.4em;box-sizing: border-box;padding-bottom: 0.4em;background-color: white;}#sk-container-id-29 div.sk-label label {font-family: monospace;font-weight: bold;display: inline-block;line-height: 1.2em;}#sk-container-id-29 div.sk-label-container {text-align: center;}#sk-container-id-29 div.sk-container {/* jupyter's `normalize.less` sets `[hidden] { display: none; }` but bootstrap.min.css set `[hidden] { display: none !important; }` so we also need the `!important` here to be able to override the default hidden behavior on the sphinx rendered scikit-learn.org. See: https://github.com/scikit-learn/scikit-learn/issues/21755 */display: inline-block !important;position: relative;}#sk-container-id-29 div.sk-text-repr-fallback {display: none;}</style><div id=\"sk-container-id-29\" class=\"sk-top-container\"><div class=\"sk-text-repr-fallback\"><pre>MLPRegressor(hidden_layer_sizes=(100, 50), max_iter=1000)</pre><b>In a Jupyter environment, please rerun this cell to show the HTML representation or trust the notebook. <br />On GitHub, the HTML representation is unable to render, please try loading this page with nbviewer.org.</b></div><div class=\"sk-container\" hidden><div class=\"sk-item\"><div class=\"sk-estimator sk-toggleable\"><input class=\"sk-toggleable__control sk-hidden--visually\" id=\"sk-estimator-id-29\" type=\"checkbox\" checked><label for=\"sk-estimator-id-29\" class=\"sk-toggleable__label sk-toggleable__label-arrow\">MLPRegressor</label><div class=\"sk-toggleable__content\"><pre>MLPRegressor(hidden_layer_sizes=(100, 50), max_iter=1000)</pre></div></div></div></div></div>"
            ]
          },
          "metadata": {},
          "execution_count": 254
        }
      ]
    },
    {
      "cell_type": "code",
      "source": [
        "from sklearn.model_selection import cross_val_score\n",
        "\n",
        "scores_RFR = cross_val_score(modelo,X,y,cv=5,scoring='r2')\n",
        "print(\"Promedio:\", scores_RFR.mean())"
      ],
      "metadata": {
        "colab": {
          "base_uri": "https://localhost:8080/"
        },
        "id": "pn9jP5Te-IJc",
        "outputId": "f57343a6-5227-4741-9d16-f07ebadbe587"
      },
      "execution_count": 255,
      "outputs": [
        {
          "output_type": "stream",
          "name": "stdout",
          "text": [
            "Promedio: 0.6222240873713896\n"
          ]
        }
      ]
    },
    {
      "cell_type": "code",
      "source": [
        "from sklearn.model_selection import cross_val_score\n",
        "\n",
        "scores_Red = cross_val_score(model,X,y,cv=5,scoring='r2')\n",
        "print(\"R^2 promedio con NN:\", scores_Red.mean())"
      ],
      "metadata": {
        "colab": {
          "base_uri": "https://localhost:8080/"
        },
        "id": "WsnkmeOe-KR9",
        "outputId": "17eb4b0a-bb7b-43c1-f255-387caf6df701"
      },
      "execution_count": 256,
      "outputs": [
        {
          "output_type": "stream",
          "name": "stdout",
          "text": [
            "R^2 promedio con NN: 0.19844448974235845\n"
          ]
        }
      ]
    },
    {
      "cell_type": "markdown",
      "source": [
        "****"
      ],
      "metadata": {
        "id": "3wSwogLjLVcC"
      }
    },
    {
      "cell_type": "code",
      "source": [
        "X1= X.iloc[:, [0,7,1,12,6,2,11,8,5,9]]\n",
        "y2=y.iloc[:]"
      ],
      "metadata": {
        "id": "rF2Vr1YdCnk0"
      },
      "execution_count": 132,
      "outputs": []
    },
    {
      "cell_type": "code",
      "source": [
        "#capa = tf.keras.layers.Dense(units=138, input_shape=[13])\n",
        "#modelo = tf.keras.Sequential([capa])\n",
        "\n",
        "oculta1 = tf.keras.layers.Dense(units=91, input_shape=[10], activation='relu')\n",
        "oculta2 = tf.keras.layers.Dense(units=180, activation='relu')\n",
        "salida = tf.keras.layers.Dense(units=1)\n",
        "\n",
        "modelo = tf.keras.Sequential([oculta1, oculta2, salida])"
      ],
      "metadata": {
        "id": "ocvcve06LlqH"
      },
      "execution_count": 174,
      "outputs": []
    },
    {
      "cell_type": "code",
      "source": [
        "modelo.compile(\n",
        "    optimizer=tf.keras.optimizers.Adam(0.01),\n",
        "    loss='mean_squared_error'\n",
        ")"
      ],
      "metadata": {
        "id": "5h5jsHHhLnnO"
      },
      "execution_count": 175,
      "outputs": []
    },
    {
      "cell_type": "code",
      "source": [
        "y.head(5)"
      ],
      "metadata": {
        "colab": {
          "base_uri": "https://localhost:8080/"
        },
        "id": "vvubkXezLo9r",
        "outputId": "9b3ac53a-da70-4de9-e8b2-c0e5e0699c19"
      },
      "execution_count": 176,
      "outputs": [
        {
          "output_type": "execute_result",
          "data": {
            "text/plain": [
              "0    175.0\n",
              "1    128.0\n",
              "2    104.0\n",
              "3    158.0\n",
              "4     53.0\n",
              "Name: Price (USD), dtype: float64"
            ]
          },
          "metadata": {},
          "execution_count": 176
        }
      ]
    },
    {
      "cell_type": "code",
      "source": [
        "print(\"Comenzando entrenamiento...\")\n",
        "historial = modelo.fit(X1, y2, epochs=1073, verbose=False)\n",
        "print(\"Modelo entrenado!\")"
      ],
      "metadata": {
        "colab": {
          "base_uri": "https://localhost:8080/"
        },
        "id": "BpQXh8hqLrA_",
        "outputId": "8cbdad4f-ba9c-4305-e13b-17c3b2ce71ce"
      },
      "execution_count": 179,
      "outputs": [
        {
          "output_type": "stream",
          "name": "stdout",
          "text": [
            "Comenzando entrenamiento...\n",
            "Modelo entrenado!\n"
          ]
        }
      ]
    },
    {
      "cell_type": "code",
      "source": [
        "print(\"Hagamos una predicción!\")\n",
        "resultado = modelo.predict([X1.iloc[[3], :]])\n",
        "#resultado = modelo.predict([[0.789474,\t0.776596,\t0.8125\t,0.692308,\t0.000000,\t0.363636,\t0.884211,\t0.6320,\t0.384615,\t0.000000,\t1.000000,\t0.137931,\t0.583333]])\n",
        "print(\"El resultado es \" + str(resultado) + \"USD!\")"
      ],
      "metadata": {
        "colab": {
          "base_uri": "https://localhost:8080/"
        },
        "id": "uEucK2QWLs-0",
        "outputId": "d32a91ad-59a2-4fcb-dfdf-8340011f017d"
      },
      "execution_count": 180,
      "outputs": [
        {
          "output_type": "stream",
          "name": "stdout",
          "text": [
            "Hagamos una predicción!\n",
            "1/1 [==============================] - 0s 24ms/step\n",
            "El resultado es [[161.54051]]USD!\n"
          ]
        }
      ]
    },
    {
      "cell_type": "code",
      "source": [],
      "metadata": {
        "id": "m9OaOjhkL4K_"
      },
      "execution_count": null,
      "outputs": []
    },
    {
      "cell_type": "code",
      "source": [],
      "metadata": {
        "id": "tYsFlY3COl41"
      },
      "execution_count": null,
      "outputs": []
    },
    {
      "cell_type": "code",
      "source": [],
      "metadata": {
        "id": "1G_YeG1rOl1M"
      },
      "execution_count": null,
      "outputs": []
    },
    {
      "cell_type": "markdown",
      "source": [
        "# **Modelo de clasificacion**"
      ],
      "metadata": {
        "id": "kM_pzbG1bRB-"
      }
    },
    {
      "cell_type": "code",
      "source": [
        "df_clasificacion = pd.read_csv('https://raw.githubusercontent.com/AdairGtz/Practica/main/NFL.csv')\n",
        "\n",
        "df_clasificacion.head(5)"
      ],
      "metadata": {
        "colab": {
          "base_uri": "https://localhost:8080/",
          "height": 357
        },
        "id": "QeSCof5nOlbS",
        "outputId": "9f17b80c-4904-441c-cf9b-f7566f9de09b"
      },
      "execution_count": 181,
      "outputs": [
        {
          "output_type": "execute_result",
          "data": {
            "text/plain": [
              "   Year                   Player   Age       School  Height      Weight  \\\n",
              "0  2009    Beanie Wells\\WellCh00  20.0     Ohio St.  1.8542  106.594207   \n",
              "1  2009      Will Davis\\DaviWi99  22.0     Illinois  1.8796  118.387609   \n",
              "2  2009  Herman Johnson\\JohnHe23  24.0          LSU  2.0066  165.107623   \n",
              "3  2009  Rashad Johnson\\JohnRa98  23.0      Alabama  1.8034   92.079251   \n",
              "4  2009      Cody Brown\\BrowCo96  22.0  Connecticut  1.8796  110.676538   \n",
              "\n",
              "   Sprint_40yd  Vertical_Jump  Bench_Press_Reps  Broad_Jump  Agility_3cone  \\\n",
              "0         4.38          85.09              25.0      325.12            NaN   \n",
              "1         4.84          83.82              27.0      292.10           7.38   \n",
              "2         5.50            NaN              21.0         NaN            NaN   \n",
              "3         4.49          93.98              15.0      304.80           7.09   \n",
              "4         4.76          92.71              26.0      304.80           7.10   \n",
              "\n",
              "   Shuttle                          Drafted..tm.rnd.yr.        BMI  \\\n",
              "0      NaN   Arizona Cardinals / 1st / 31st pick / 2009  31.004194   \n",
              "1     4.45  Arizona Cardinals / 6th / 204th pick / 2009  33.510073   \n",
              "2      NaN  Arizona Cardinals / 5th / 167th pick / 2009  41.005821   \n",
              "3     4.23   Arizona Cardinals / 3rd / 95th pick / 2009  28.312463   \n",
              "4     4.40   Arizona Cardinals / 2nd / 63rd pick / 2009  31.327425   \n",
              "\n",
              "  Player_Type      Position_Type Position Drafted  \n",
              "0     offense    backs_receivers       RB     Yes  \n",
              "1     defense  defensive_lineman       DE     Yes  \n",
              "2     offense  offensive_lineman       OG     Yes  \n",
              "3     defense     defensive_back       FS     Yes  \n",
              "4     defense        line_backer      OLB     Yes  "
            ],
            "text/html": [
              "\n",
              "  <div id=\"df-d95cecff-dae2-4018-bd32-f7bacfe9c581\">\n",
              "    <div class=\"colab-df-container\">\n",
              "      <div>\n",
              "<style scoped>\n",
              "    .dataframe tbody tr th:only-of-type {\n",
              "        vertical-align: middle;\n",
              "    }\n",
              "\n",
              "    .dataframe tbody tr th {\n",
              "        vertical-align: top;\n",
              "    }\n",
              "\n",
              "    .dataframe thead th {\n",
              "        text-align: right;\n",
              "    }\n",
              "</style>\n",
              "<table border=\"1\" class=\"dataframe\">\n",
              "  <thead>\n",
              "    <tr style=\"text-align: right;\">\n",
              "      <th></th>\n",
              "      <th>Year</th>\n",
              "      <th>Player</th>\n",
              "      <th>Age</th>\n",
              "      <th>School</th>\n",
              "      <th>Height</th>\n",
              "      <th>Weight</th>\n",
              "      <th>Sprint_40yd</th>\n",
              "      <th>Vertical_Jump</th>\n",
              "      <th>Bench_Press_Reps</th>\n",
              "      <th>Broad_Jump</th>\n",
              "      <th>Agility_3cone</th>\n",
              "      <th>Shuttle</th>\n",
              "      <th>Drafted..tm.rnd.yr.</th>\n",
              "      <th>BMI</th>\n",
              "      <th>Player_Type</th>\n",
              "      <th>Position_Type</th>\n",
              "      <th>Position</th>\n",
              "      <th>Drafted</th>\n",
              "    </tr>\n",
              "  </thead>\n",
              "  <tbody>\n",
              "    <tr>\n",
              "      <th>0</th>\n",
              "      <td>2009</td>\n",
              "      <td>Beanie Wells\\WellCh00</td>\n",
              "      <td>20.0</td>\n",
              "      <td>Ohio St.</td>\n",
              "      <td>1.8542</td>\n",
              "      <td>106.594207</td>\n",
              "      <td>4.38</td>\n",
              "      <td>85.09</td>\n",
              "      <td>25.0</td>\n",
              "      <td>325.12</td>\n",
              "      <td>NaN</td>\n",
              "      <td>NaN</td>\n",
              "      <td>Arizona Cardinals / 1st / 31st pick / 2009</td>\n",
              "      <td>31.004194</td>\n",
              "      <td>offense</td>\n",
              "      <td>backs_receivers</td>\n",
              "      <td>RB</td>\n",
              "      <td>Yes</td>\n",
              "    </tr>\n",
              "    <tr>\n",
              "      <th>1</th>\n",
              "      <td>2009</td>\n",
              "      <td>Will Davis\\DaviWi99</td>\n",
              "      <td>22.0</td>\n",
              "      <td>Illinois</td>\n",
              "      <td>1.8796</td>\n",
              "      <td>118.387609</td>\n",
              "      <td>4.84</td>\n",
              "      <td>83.82</td>\n",
              "      <td>27.0</td>\n",
              "      <td>292.10</td>\n",
              "      <td>7.38</td>\n",
              "      <td>4.45</td>\n",
              "      <td>Arizona Cardinals / 6th / 204th pick / 2009</td>\n",
              "      <td>33.510073</td>\n",
              "      <td>defense</td>\n",
              "      <td>defensive_lineman</td>\n",
              "      <td>DE</td>\n",
              "      <td>Yes</td>\n",
              "    </tr>\n",
              "    <tr>\n",
              "      <th>2</th>\n",
              "      <td>2009</td>\n",
              "      <td>Herman Johnson\\JohnHe23</td>\n",
              "      <td>24.0</td>\n",
              "      <td>LSU</td>\n",
              "      <td>2.0066</td>\n",
              "      <td>165.107623</td>\n",
              "      <td>5.50</td>\n",
              "      <td>NaN</td>\n",
              "      <td>21.0</td>\n",
              "      <td>NaN</td>\n",
              "      <td>NaN</td>\n",
              "      <td>NaN</td>\n",
              "      <td>Arizona Cardinals / 5th / 167th pick / 2009</td>\n",
              "      <td>41.005821</td>\n",
              "      <td>offense</td>\n",
              "      <td>offensive_lineman</td>\n",
              "      <td>OG</td>\n",
              "      <td>Yes</td>\n",
              "    </tr>\n",
              "    <tr>\n",
              "      <th>3</th>\n",
              "      <td>2009</td>\n",
              "      <td>Rashad Johnson\\JohnRa98</td>\n",
              "      <td>23.0</td>\n",
              "      <td>Alabama</td>\n",
              "      <td>1.8034</td>\n",
              "      <td>92.079251</td>\n",
              "      <td>4.49</td>\n",
              "      <td>93.98</td>\n",
              "      <td>15.0</td>\n",
              "      <td>304.80</td>\n",
              "      <td>7.09</td>\n",
              "      <td>4.23</td>\n",
              "      <td>Arizona Cardinals / 3rd / 95th pick / 2009</td>\n",
              "      <td>28.312463</td>\n",
              "      <td>defense</td>\n",
              "      <td>defensive_back</td>\n",
              "      <td>FS</td>\n",
              "      <td>Yes</td>\n",
              "    </tr>\n",
              "    <tr>\n",
              "      <th>4</th>\n",
              "      <td>2009</td>\n",
              "      <td>Cody Brown\\BrowCo96</td>\n",
              "      <td>22.0</td>\n",
              "      <td>Connecticut</td>\n",
              "      <td>1.8796</td>\n",
              "      <td>110.676538</td>\n",
              "      <td>4.76</td>\n",
              "      <td>92.71</td>\n",
              "      <td>26.0</td>\n",
              "      <td>304.80</td>\n",
              "      <td>7.10</td>\n",
              "      <td>4.40</td>\n",
              "      <td>Arizona Cardinals / 2nd / 63rd pick / 2009</td>\n",
              "      <td>31.327425</td>\n",
              "      <td>defense</td>\n",
              "      <td>line_backer</td>\n",
              "      <td>OLB</td>\n",
              "      <td>Yes</td>\n",
              "    </tr>\n",
              "  </tbody>\n",
              "</table>\n",
              "</div>\n",
              "      <button class=\"colab-df-convert\" onclick=\"convertToInteractive('df-d95cecff-dae2-4018-bd32-f7bacfe9c581')\"\n",
              "              title=\"Convert this dataframe to an interactive table.\"\n",
              "              style=\"display:none;\">\n",
              "        \n",
              "  <svg xmlns=\"http://www.w3.org/2000/svg\" height=\"24px\"viewBox=\"0 0 24 24\"\n",
              "       width=\"24px\">\n",
              "    <path d=\"M0 0h24v24H0V0z\" fill=\"none\"/>\n",
              "    <path d=\"M18.56 5.44l.94 2.06.94-2.06 2.06-.94-2.06-.94-.94-2.06-.94 2.06-2.06.94zm-11 1L8.5 8.5l.94-2.06 2.06-.94-2.06-.94L8.5 2.5l-.94 2.06-2.06.94zm10 10l.94 2.06.94-2.06 2.06-.94-2.06-.94-.94-2.06-.94 2.06-2.06.94z\"/><path d=\"M17.41 7.96l-1.37-1.37c-.4-.4-.92-.59-1.43-.59-.52 0-1.04.2-1.43.59L10.3 9.45l-7.72 7.72c-.78.78-.78 2.05 0 2.83L4 21.41c.39.39.9.59 1.41.59.51 0 1.02-.2 1.41-.59l7.78-7.78 2.81-2.81c.8-.78.8-2.07 0-2.86zM5.41 20L4 18.59l7.72-7.72 1.47 1.35L5.41 20z\"/>\n",
              "  </svg>\n",
              "      </button>\n",
              "      \n",
              "  <style>\n",
              "    .colab-df-container {\n",
              "      display:flex;\n",
              "      flex-wrap:wrap;\n",
              "      gap: 12px;\n",
              "    }\n",
              "\n",
              "    .colab-df-convert {\n",
              "      background-color: #E8F0FE;\n",
              "      border: none;\n",
              "      border-radius: 50%;\n",
              "      cursor: pointer;\n",
              "      display: none;\n",
              "      fill: #1967D2;\n",
              "      height: 32px;\n",
              "      padding: 0 0 0 0;\n",
              "      width: 32px;\n",
              "    }\n",
              "\n",
              "    .colab-df-convert:hover {\n",
              "      background-color: #E2EBFA;\n",
              "      box-shadow: 0px 1px 2px rgba(60, 64, 67, 0.3), 0px 1px 3px 1px rgba(60, 64, 67, 0.15);\n",
              "      fill: #174EA6;\n",
              "    }\n",
              "\n",
              "    [theme=dark] .colab-df-convert {\n",
              "      background-color: #3B4455;\n",
              "      fill: #D2E3FC;\n",
              "    }\n",
              "\n",
              "    [theme=dark] .colab-df-convert:hover {\n",
              "      background-color: #434B5C;\n",
              "      box-shadow: 0px 1px 3px 1px rgba(0, 0, 0, 0.15);\n",
              "      filter: drop-shadow(0px 1px 2px rgba(0, 0, 0, 0.3));\n",
              "      fill: #FFFFFF;\n",
              "    }\n",
              "  </style>\n",
              "\n",
              "      <script>\n",
              "        const buttonEl =\n",
              "          document.querySelector('#df-d95cecff-dae2-4018-bd32-f7bacfe9c581 button.colab-df-convert');\n",
              "        buttonEl.style.display =\n",
              "          google.colab.kernel.accessAllowed ? 'block' : 'none';\n",
              "\n",
              "        async function convertToInteractive(key) {\n",
              "          const element = document.querySelector('#df-d95cecff-dae2-4018-bd32-f7bacfe9c581');\n",
              "          const dataTable =\n",
              "            await google.colab.kernel.invokeFunction('convertToInteractive',\n",
              "                                                     [key], {});\n",
              "          if (!dataTable) return;\n",
              "\n",
              "          const docLinkHtml = 'Like what you see? Visit the ' +\n",
              "            '<a target=\"_blank\" href=https://colab.research.google.com/notebooks/data_table.ipynb>data table notebook</a>'\n",
              "            + ' to learn more about interactive tables.';\n",
              "          element.innerHTML = '';\n",
              "          dataTable['output_type'] = 'display_data';\n",
              "          await google.colab.output.renderOutput(dataTable, element);\n",
              "          const docLink = document.createElement('div');\n",
              "          docLink.innerHTML = docLinkHtml;\n",
              "          element.appendChild(docLink);\n",
              "        }\n",
              "      </script>\n",
              "    </div>\n",
              "  </div>\n",
              "  "
            ]
          },
          "metadata": {},
          "execution_count": 181
        }
      ]
    },
    {
      "cell_type": "code",
      "source": [
        "df_clasificacion.info()"
      ],
      "metadata": {
        "colab": {
          "base_uri": "https://localhost:8080/"
        },
        "id": "6cRN_tkAOxGL",
        "outputId": "0dc72b98-4267-4173-b7a8-76e9c39c7591"
      },
      "execution_count": 185,
      "outputs": [
        {
          "output_type": "stream",
          "name": "stdout",
          "text": [
            "<class 'pandas.core.frame.DataFrame'>\n",
            "RangeIndex: 3477 entries, 0 to 3476\n",
            "Data columns (total 18 columns):\n",
            " #   Column               Non-Null Count  Dtype  \n",
            "---  ------               --------------  -----  \n",
            " 0   Year                 3477 non-null   int64  \n",
            " 1   Player               3477 non-null   object \n",
            " 2   Age                  2927 non-null   float64\n",
            " 3   School               3477 non-null   object \n",
            " 4   Height               3477 non-null   float64\n",
            " 5   Weight               3477 non-null   float64\n",
            " 6   Sprint_40yd          3303 non-null   float64\n",
            " 7   Vertical_Jump        2780 non-null   float64\n",
            " 8   Bench_Press_Reps     2572 non-null   float64\n",
            " 9   Broad_Jump           2749 non-null   float64\n",
            " 10  Agility_3cone        2260 non-null   float64\n",
            " 11  Shuttle              2337 non-null   float64\n",
            " 12  Drafted..tm.rnd.yr.  2254 non-null   object \n",
            " 13  BMI                  3477 non-null   float64\n",
            " 14  Player_Type          3477 non-null   object \n",
            " 15  Position_Type        3477 non-null   object \n",
            " 16  Position             3477 non-null   object \n",
            " 17  Drafted              3477 non-null   object \n",
            "dtypes: float64(10), int64(1), object(7)\n",
            "memory usage: 489.1+ KB\n"
          ]
        }
      ]
    },
    {
      "cell_type": "code",
      "source": [
        "df_clasificacion.isnull().sum()"
      ],
      "metadata": {
        "colab": {
          "base_uri": "https://localhost:8080/"
        },
        "id": "PWnw6LH0O1Gf",
        "outputId": "3baddad5-e6fe-4485-824c-11166b75c318"
      },
      "execution_count": 186,
      "outputs": [
        {
          "output_type": "execute_result",
          "data": {
            "text/plain": [
              "Year                      0\n",
              "Player                    0\n",
              "Age                     550\n",
              "School                    0\n",
              "Height                    0\n",
              "Weight                    0\n",
              "Sprint_40yd             174\n",
              "Vertical_Jump           697\n",
              "Bench_Press_Reps        905\n",
              "Broad_Jump              728\n",
              "Agility_3cone          1217\n",
              "Shuttle                1140\n",
              "Drafted..tm.rnd.yr.    1223\n",
              "BMI                       0\n",
              "Player_Type               0\n",
              "Position_Type             0\n",
              "Position                  0\n",
              "Drafted                   0\n",
              "dtype: int64"
            ]
          },
          "metadata": {},
          "execution_count": 186
        }
      ]
    },
    {
      "cell_type": "code",
      "source": [
        "df_clasificacion['Age'] = df_clasificacion['Age'].fillna( df_clasificacion['Age'].mode()[0] )\n",
        "df_clasificacion['Sprint_40yd'] = df_clasificacion['Sprint_40yd'].fillna( df_clasificacion['Sprint_40yd'].mean() )\n",
        "df_clasificacion['Vertical_Jump'] = df_clasificacion['Vertical_Jump'].fillna( df_clasificacion['Vertical_Jump'].mean() )\n",
        "df_clasificacion['Bench_Press_Reps'] = df_clasificacion['Bench_Press_Reps'].fillna( df_clasificacion['Bench_Press_Reps'].mode()[0] )\n",
        "df_clasificacion['Broad_Jump'] = df_clasificacion['Broad_Jump'].fillna( df_clasificacion['Broad_Jump'].mode()[0] )\n",
        "df_clasificacion['Agility_3cone'] = df_clasificacion['Agility_3cone'].fillna( df_clasificacion['Agility_3cone'].mean() )\n",
        "df_clasificacion['Shuttle'] = df_clasificacion['Shuttle'].fillna( df_clasificacion['Shuttle'].mean() )\n",
        "\n",
        "\n",
        "df_clasificacion['Drafted..tm.rnd.yr._IDENT']= df_clasificacion['Drafted..tm.rnd.yr.'].isnull()\n",
        "df_clasificacion['Drafted..tm.rnd.yr.']= df_clasificacion['Drafted..tm.rnd.yr.'].fillna( 'Desconocido')\n",
        "\n",
        "\n",
        "\n",
        "df_clasificacion.isnull().sum()"
      ],
      "metadata": {
        "colab": {
          "base_uri": "https://localhost:8080/"
        },
        "id": "zw4F5Hr_O3Ey",
        "outputId": "ee110f7e-fe0b-48b7-8ae8-18a318761272"
      },
      "execution_count": 187,
      "outputs": [
        {
          "output_type": "execute_result",
          "data": {
            "text/plain": [
              "Year                         0\n",
              "Player                       0\n",
              "Age                          0\n",
              "School                       0\n",
              "Height                       0\n",
              "Weight                       0\n",
              "Sprint_40yd                  0\n",
              "Vertical_Jump                0\n",
              "Bench_Press_Reps             0\n",
              "Broad_Jump                   0\n",
              "Agility_3cone                0\n",
              "Shuttle                      0\n",
              "Drafted..tm.rnd.yr.          0\n",
              "BMI                          0\n",
              "Player_Type                  0\n",
              "Position_Type                0\n",
              "Position                     0\n",
              "Drafted                      0\n",
              "Drafted..tm.rnd.yr._IDENT    0\n",
              "dtype: int64"
            ]
          },
          "metadata": {},
          "execution_count": 187
        }
      ]
    },
    {
      "cell_type": "code",
      "source": [
        "df_clasificacion.info()"
      ],
      "metadata": {
        "colab": {
          "base_uri": "https://localhost:8080/"
        },
        "id": "gd51zZXuO5U2",
        "outputId": "683df16c-91fc-432d-eacb-f217a716939c"
      },
      "execution_count": 188,
      "outputs": [
        {
          "output_type": "stream",
          "name": "stdout",
          "text": [
            "<class 'pandas.core.frame.DataFrame'>\n",
            "RangeIndex: 3477 entries, 0 to 3476\n",
            "Data columns (total 19 columns):\n",
            " #   Column                     Non-Null Count  Dtype  \n",
            "---  ------                     --------------  -----  \n",
            " 0   Year                       3477 non-null   int64  \n",
            " 1   Player                     3477 non-null   object \n",
            " 2   Age                        3477 non-null   float64\n",
            " 3   School                     3477 non-null   object \n",
            " 4   Height                     3477 non-null   float64\n",
            " 5   Weight                     3477 non-null   float64\n",
            " 6   Sprint_40yd                3477 non-null   float64\n",
            " 7   Vertical_Jump              3477 non-null   float64\n",
            " 8   Bench_Press_Reps           3477 non-null   float64\n",
            " 9   Broad_Jump                 3477 non-null   float64\n",
            " 10  Agility_3cone              3477 non-null   float64\n",
            " 11  Shuttle                    3477 non-null   float64\n",
            " 12  Drafted..tm.rnd.yr.        3477 non-null   object \n",
            " 13  BMI                        3477 non-null   float64\n",
            " 14  Player_Type                3477 non-null   object \n",
            " 15  Position_Type              3477 non-null   object \n",
            " 16  Position                   3477 non-null   object \n",
            " 17  Drafted                    3477 non-null   object \n",
            " 18  Drafted..tm.rnd.yr._IDENT  3477 non-null   bool   \n",
            "dtypes: bool(1), float64(10), int64(1), object(7)\n",
            "memory usage: 492.5+ KB\n"
          ]
        }
      ]
    },
    {
      "cell_type": "code",
      "source": [
        "from sklearn.preprocessing import OrdinalEncoder\n",
        "encoder = OrdinalEncoder()\n",
        "df_clasificacion['Age'] = encoder.fit_transform(df_clasificacion[['Age']])\n",
        "df_clasificacion['Height'] = encoder.fit_transform(df_clasificacion[['Height']])\n",
        "df_clasificacion['Weight'] = encoder.fit_transform(df_clasificacion[['Weight']])\n",
        "df_clasificacion['Sprint_40yd'] = encoder.fit_transform(df_clasificacion[['Sprint_40yd']])\n",
        "df_clasificacion['Vertical_Jump'] = encoder.fit_transform(df_clasificacion[['Vertical_Jump']])\n",
        "df_clasificacion['Bench_Press_Reps'] = encoder.fit_transform(df_clasificacion[['Bench_Press_Reps']])\n",
        "df_clasificacion['Broad_Jump'] = encoder.fit_transform(df_clasificacion[['Broad_Jump']])\n",
        "df_clasificacion['Agility_3cone'] = encoder.fit_transform(df_clasificacion[['Agility_3cone']])\n",
        "df_clasificacion['Shuttle'] = encoder.fit_transform(df_clasificacion[['Shuttle']])\n",
        "df_clasificacion['BMI'] = encoder.fit_transform(df_clasificacion[['BMI']])\n",
        "df_clasificacion['Position_Type'] = encoder.fit_transform(df_clasificacion[['Position_Type']])\n",
        "df_clasificacion['Drafted'] = encoder.fit_transform(df_clasificacion[['Drafted']])\n",
        "df_clasificacion['Player_Type'] = encoder.fit_transform(df_clasificacion[['Player_Type']])\n",
        "df_clasificacion['Drafted..tm.rnd.yr._IDENT'] = encoder.fit_transform(df_clasificacion[['Drafted..tm.rnd.yr._IDENT']])\n",
        "df_clasificacion['Position'] = encoder.fit_transform(df_clasificacion[['Position']])\n",
        "df_clasificacion['Drafted..tm.rnd.yr.'] = encoder.fit_transform(df_clasificacion[['Drafted..tm.rnd.yr.']])\n",
        "df_clasificacion['School'] = encoder.fit_transform(df_clasificacion[['School']])\n",
        "\n",
        "\n",
        "df_clasificacion.head()"
      ],
      "metadata": {
        "colab": {
          "base_uri": "https://localhost:8080/",
          "height": 357
        },
        "id": "auzYd8FOPQxv",
        "outputId": "1600dbb4-bb52-4da6-cd01-4b0eda738fd4"
      },
      "execution_count": 189,
      "outputs": [
        {
          "output_type": "execute_result",
          "data": {
            "text/plain": [
              "   Year                   Player  Age  School  Height  Weight  Sprint_40yd  \\\n",
              "0  2009    Beanie Wells\\WellCh00  2.0   163.0     8.0    75.0         13.0   \n",
              "1  2009      Will Davis\\DaviWi99  4.0    87.0     9.0   101.0         60.0   \n",
              "2  2009  Herman Johnson\\JohnHe23  6.0   101.0    14.0   192.0        126.0   \n",
              "3  2009  Rashad Johnson\\JohnRa98  5.0     4.0     6.0    43.0         24.0   \n",
              "4  2009      Cody Brown\\BrowCo96  4.0    46.0     9.0    84.0         51.0   \n",
              "\n",
              "   Vertical_Jump  Bench_Press_Reps  Broad_Jump  Agility_3cone  Shuttle  \\\n",
              "0           31.0              23.0        47.0           82.0     55.0   \n",
              "1           30.0              25.0        34.0           97.0     60.0   \n",
              "2           29.0              19.0        39.0           82.0     55.0   \n",
              "3           38.0              13.0        39.0           67.0     37.0   \n",
              "4           37.0              24.0        39.0           68.0     54.0   \n",
              "\n",
              "   Drafted..tm.rnd.yr.     BMI  Player_Type  Position_Type  Position  Drafted  \\\n",
              "0                  8.0   514.0          1.0            0.0      15.0      1.0   \n",
              "1                 58.0   700.0          0.0            2.0       3.0      1.0   \n",
              "2                 49.0  1030.0          1.0            5.0      10.0      1.0   \n",
              "3                 29.0   295.0          0.0            1.0       6.0      1.0   \n",
              "4                 20.0   544.0          0.0            4.0      11.0      1.0   \n",
              "\n",
              "   Drafted..tm.rnd.yr._IDENT  \n",
              "0                        0.0  \n",
              "1                        0.0  \n",
              "2                        0.0  \n",
              "3                        0.0  \n",
              "4                        0.0  "
            ],
            "text/html": [
              "\n",
              "  <div id=\"df-8164d33b-4a1b-4d6e-a5de-657f99e6284d\">\n",
              "    <div class=\"colab-df-container\">\n",
              "      <div>\n",
              "<style scoped>\n",
              "    .dataframe tbody tr th:only-of-type {\n",
              "        vertical-align: middle;\n",
              "    }\n",
              "\n",
              "    .dataframe tbody tr th {\n",
              "        vertical-align: top;\n",
              "    }\n",
              "\n",
              "    .dataframe thead th {\n",
              "        text-align: right;\n",
              "    }\n",
              "</style>\n",
              "<table border=\"1\" class=\"dataframe\">\n",
              "  <thead>\n",
              "    <tr style=\"text-align: right;\">\n",
              "      <th></th>\n",
              "      <th>Year</th>\n",
              "      <th>Player</th>\n",
              "      <th>Age</th>\n",
              "      <th>School</th>\n",
              "      <th>Height</th>\n",
              "      <th>Weight</th>\n",
              "      <th>Sprint_40yd</th>\n",
              "      <th>Vertical_Jump</th>\n",
              "      <th>Bench_Press_Reps</th>\n",
              "      <th>Broad_Jump</th>\n",
              "      <th>Agility_3cone</th>\n",
              "      <th>Shuttle</th>\n",
              "      <th>Drafted..tm.rnd.yr.</th>\n",
              "      <th>BMI</th>\n",
              "      <th>Player_Type</th>\n",
              "      <th>Position_Type</th>\n",
              "      <th>Position</th>\n",
              "      <th>Drafted</th>\n",
              "      <th>Drafted..tm.rnd.yr._IDENT</th>\n",
              "    </tr>\n",
              "  </thead>\n",
              "  <tbody>\n",
              "    <tr>\n",
              "      <th>0</th>\n",
              "      <td>2009</td>\n",
              "      <td>Beanie Wells\\WellCh00</td>\n",
              "      <td>2.0</td>\n",
              "      <td>163.0</td>\n",
              "      <td>8.0</td>\n",
              "      <td>75.0</td>\n",
              "      <td>13.0</td>\n",
              "      <td>31.0</td>\n",
              "      <td>23.0</td>\n",
              "      <td>47.0</td>\n",
              "      <td>82.0</td>\n",
              "      <td>55.0</td>\n",
              "      <td>8.0</td>\n",
              "      <td>514.0</td>\n",
              "      <td>1.0</td>\n",
              "      <td>0.0</td>\n",
              "      <td>15.0</td>\n",
              "      <td>1.0</td>\n",
              "      <td>0.0</td>\n",
              "    </tr>\n",
              "    <tr>\n",
              "      <th>1</th>\n",
              "      <td>2009</td>\n",
              "      <td>Will Davis\\DaviWi99</td>\n",
              "      <td>4.0</td>\n",
              "      <td>87.0</td>\n",
              "      <td>9.0</td>\n",
              "      <td>101.0</td>\n",
              "      <td>60.0</td>\n",
              "      <td>30.0</td>\n",
              "      <td>25.0</td>\n",
              "      <td>34.0</td>\n",
              "      <td>97.0</td>\n",
              "      <td>60.0</td>\n",
              "      <td>58.0</td>\n",
              "      <td>700.0</td>\n",
              "      <td>0.0</td>\n",
              "      <td>2.0</td>\n",
              "      <td>3.0</td>\n",
              "      <td>1.0</td>\n",
              "      <td>0.0</td>\n",
              "    </tr>\n",
              "    <tr>\n",
              "      <th>2</th>\n",
              "      <td>2009</td>\n",
              "      <td>Herman Johnson\\JohnHe23</td>\n",
              "      <td>6.0</td>\n",
              "      <td>101.0</td>\n",
              "      <td>14.0</td>\n",
              "      <td>192.0</td>\n",
              "      <td>126.0</td>\n",
              "      <td>29.0</td>\n",
              "      <td>19.0</td>\n",
              "      <td>39.0</td>\n",
              "      <td>82.0</td>\n",
              "      <td>55.0</td>\n",
              "      <td>49.0</td>\n",
              "      <td>1030.0</td>\n",
              "      <td>1.0</td>\n",
              "      <td>5.0</td>\n",
              "      <td>10.0</td>\n",
              "      <td>1.0</td>\n",
              "      <td>0.0</td>\n",
              "    </tr>\n",
              "    <tr>\n",
              "      <th>3</th>\n",
              "      <td>2009</td>\n",
              "      <td>Rashad Johnson\\JohnRa98</td>\n",
              "      <td>5.0</td>\n",
              "      <td>4.0</td>\n",
              "      <td>6.0</td>\n",
              "      <td>43.0</td>\n",
              "      <td>24.0</td>\n",
              "      <td>38.0</td>\n",
              "      <td>13.0</td>\n",
              "      <td>39.0</td>\n",
              "      <td>67.0</td>\n",
              "      <td>37.0</td>\n",
              "      <td>29.0</td>\n",
              "      <td>295.0</td>\n",
              "      <td>0.0</td>\n",
              "      <td>1.0</td>\n",
              "      <td>6.0</td>\n",
              "      <td>1.0</td>\n",
              "      <td>0.0</td>\n",
              "    </tr>\n",
              "    <tr>\n",
              "      <th>4</th>\n",
              "      <td>2009</td>\n",
              "      <td>Cody Brown\\BrowCo96</td>\n",
              "      <td>4.0</td>\n",
              "      <td>46.0</td>\n",
              "      <td>9.0</td>\n",
              "      <td>84.0</td>\n",
              "      <td>51.0</td>\n",
              "      <td>37.0</td>\n",
              "      <td>24.0</td>\n",
              "      <td>39.0</td>\n",
              "      <td>68.0</td>\n",
              "      <td>54.0</td>\n",
              "      <td>20.0</td>\n",
              "      <td>544.0</td>\n",
              "      <td>0.0</td>\n",
              "      <td>4.0</td>\n",
              "      <td>11.0</td>\n",
              "      <td>1.0</td>\n",
              "      <td>0.0</td>\n",
              "    </tr>\n",
              "  </tbody>\n",
              "</table>\n",
              "</div>\n",
              "      <button class=\"colab-df-convert\" onclick=\"convertToInteractive('df-8164d33b-4a1b-4d6e-a5de-657f99e6284d')\"\n",
              "              title=\"Convert this dataframe to an interactive table.\"\n",
              "              style=\"display:none;\">\n",
              "        \n",
              "  <svg xmlns=\"http://www.w3.org/2000/svg\" height=\"24px\"viewBox=\"0 0 24 24\"\n",
              "       width=\"24px\">\n",
              "    <path d=\"M0 0h24v24H0V0z\" fill=\"none\"/>\n",
              "    <path d=\"M18.56 5.44l.94 2.06.94-2.06 2.06-.94-2.06-.94-.94-2.06-.94 2.06-2.06.94zm-11 1L8.5 8.5l.94-2.06 2.06-.94-2.06-.94L8.5 2.5l-.94 2.06-2.06.94zm10 10l.94 2.06.94-2.06 2.06-.94-2.06-.94-.94-2.06-.94 2.06-2.06.94z\"/><path d=\"M17.41 7.96l-1.37-1.37c-.4-.4-.92-.59-1.43-.59-.52 0-1.04.2-1.43.59L10.3 9.45l-7.72 7.72c-.78.78-.78 2.05 0 2.83L4 21.41c.39.39.9.59 1.41.59.51 0 1.02-.2 1.41-.59l7.78-7.78 2.81-2.81c.8-.78.8-2.07 0-2.86zM5.41 20L4 18.59l7.72-7.72 1.47 1.35L5.41 20z\"/>\n",
              "  </svg>\n",
              "      </button>\n",
              "      \n",
              "  <style>\n",
              "    .colab-df-container {\n",
              "      display:flex;\n",
              "      flex-wrap:wrap;\n",
              "      gap: 12px;\n",
              "    }\n",
              "\n",
              "    .colab-df-convert {\n",
              "      background-color: #E8F0FE;\n",
              "      border: none;\n",
              "      border-radius: 50%;\n",
              "      cursor: pointer;\n",
              "      display: none;\n",
              "      fill: #1967D2;\n",
              "      height: 32px;\n",
              "      padding: 0 0 0 0;\n",
              "      width: 32px;\n",
              "    }\n",
              "\n",
              "    .colab-df-convert:hover {\n",
              "      background-color: #E2EBFA;\n",
              "      box-shadow: 0px 1px 2px rgba(60, 64, 67, 0.3), 0px 1px 3px 1px rgba(60, 64, 67, 0.15);\n",
              "      fill: #174EA6;\n",
              "    }\n",
              "\n",
              "    [theme=dark] .colab-df-convert {\n",
              "      background-color: #3B4455;\n",
              "      fill: #D2E3FC;\n",
              "    }\n",
              "\n",
              "    [theme=dark] .colab-df-convert:hover {\n",
              "      background-color: #434B5C;\n",
              "      box-shadow: 0px 1px 3px 1px rgba(0, 0, 0, 0.15);\n",
              "      filter: drop-shadow(0px 1px 2px rgba(0, 0, 0, 0.3));\n",
              "      fill: #FFFFFF;\n",
              "    }\n",
              "  </style>\n",
              "\n",
              "      <script>\n",
              "        const buttonEl =\n",
              "          document.querySelector('#df-8164d33b-4a1b-4d6e-a5de-657f99e6284d button.colab-df-convert');\n",
              "        buttonEl.style.display =\n",
              "          google.colab.kernel.accessAllowed ? 'block' : 'none';\n",
              "\n",
              "        async function convertToInteractive(key) {\n",
              "          const element = document.querySelector('#df-8164d33b-4a1b-4d6e-a5de-657f99e6284d');\n",
              "          const dataTable =\n",
              "            await google.colab.kernel.invokeFunction('convertToInteractive',\n",
              "                                                     [key], {});\n",
              "          if (!dataTable) return;\n",
              "\n",
              "          const docLinkHtml = 'Like what you see? Visit the ' +\n",
              "            '<a target=\"_blank\" href=https://colab.research.google.com/notebooks/data_table.ipynb>data table notebook</a>'\n",
              "            + ' to learn more about interactive tables.';\n",
              "          element.innerHTML = '';\n",
              "          dataTable['output_type'] = 'display_data';\n",
              "          await google.colab.output.renderOutput(dataTable, element);\n",
              "          const docLink = document.createElement('div');\n",
              "          docLink.innerHTML = docLinkHtml;\n",
              "          element.appendChild(docLink);\n",
              "        }\n",
              "      </script>\n",
              "    </div>\n",
              "  </div>\n",
              "  "
            ]
          },
          "metadata": {},
          "execution_count": 189
        }
      ]
    },
    {
      "cell_type": "code",
      "source": [
        "from sklearn.preprocessing import MinMaxScaler\n",
        "scaler = MinMaxScaler()\n",
        "\n",
        "df_clasificacion['Age'] = scaler.fit_transform(df_clasificacion[['Age']])\n",
        "df_clasificacion['Height'] = scaler.fit_transform(df_clasificacion[['Height']])\n",
        "df_clasificacion['Weight'] = scaler.fit_transform(df_clasificacion[['Weight']])\n",
        "\n",
        "df_clasificacion['Sprint_40yd'] = scaler.fit_transform(df_clasificacion[['Sprint_40yd']])\n",
        "df_clasificacion['Vertical_Jump'] = scaler.fit_transform(df_clasificacion[['Vertical_Jump']])\n",
        "df_clasificacion['Bench_Press_Reps'] = scaler.fit_transform(df_clasificacion[['Bench_Press_Reps']])\n",
        "df_clasificacion['Broad_Jump'] = scaler.fit_transform(df_clasificacion[['Broad_Jump']])\n",
        "df_clasificacion['Agility_3cone'] = scaler.fit_transform(df_clasificacion[['Agility_3cone']])\n",
        "df_clasificacion['Shuttle'] = scaler.fit_transform(df_clasificacion[['Shuttle']])\n",
        "df_clasificacion['BMI'] = scaler.fit_transform(df_clasificacion[['BMI']])\n",
        "df_clasificacion['Player_Type'] = scaler.fit_transform(df_clasificacion[['Player_Type']])\n",
        "df_clasificacion['Position_Type'] = scaler.fit_transform(df_clasificacion[['Position_Type']])\n",
        "df_clasificacion['Drafted'] = scaler.fit_transform(df_clasificacion[['Drafted']])\n",
        "df_clasificacion['Drafted..tm.rnd.yr._IDENT'] = scaler.fit_transform(df_clasificacion[['Drafted..tm.rnd.yr._IDENT']])\n",
        "df_clasificacion['Position'] = scaler.fit_transform(df_clasificacion[['Position']])\n",
        "df_clasificacion['Drafted..tm.rnd.yr.'] = scaler.fit_transform(df_clasificacion[['Drafted..tm.rnd.yr.']])\n",
        "df_clasificacion['Drafted..tm.rnd.yr.'] = scaler.fit_transform(df_clasificacion[['Drafted..tm.rnd.yr.']])\n",
        "df_clasificacion['School'] = scaler.fit_transform(df_clasificacion[['School']])\n",
        "df_clasificacion['Drafted'] = scaler.fit_transform(df_clasificacion[['Drafted']])\n",
        "\n",
        "\n",
        "df_clasificacion.head(5)"
      ],
      "metadata": {
        "colab": {
          "base_uri": "https://localhost:8080/",
          "height": 357
        },
        "id": "gtMzuvDKPkbg",
        "outputId": "b48eb00d-41f4-4fa9-907f-2c646758de5e"
      },
      "execution_count": 190,
      "outputs": [
        {
          "output_type": "execute_result",
          "data": {
            "text/plain": [
              "   Year                   Player  Age    School    Height    Weight  \\\n",
              "0  2009    Beanie Wells\\WellCh00  0.2  0.646825  0.470588  0.388601   \n",
              "1  2009      Will Davis\\DaviWi99  0.4  0.345238  0.529412  0.523316   \n",
              "2  2009  Herman Johnson\\JohnHe23  0.6  0.400794  0.823529  0.994819   \n",
              "3  2009  Rashad Johnson\\JohnRa98  0.5  0.015873  0.352941  0.222798   \n",
              "4  2009      Cody Brown\\BrowCo96  0.4  0.182540  0.529412  0.435233   \n",
              "\n",
              "   Sprint_40yd  Vertical_Jump  Bench_Press_Reps  Broad_Jump  Agility_3cone  \\\n",
              "0     0.089041       0.574074          0.547619    0.783333       0.401961   \n",
              "1     0.410959       0.555556          0.595238    0.566667       0.475490   \n",
              "2     0.863014       0.537037          0.452381    0.650000       0.401961   \n",
              "3     0.164384       0.703704          0.309524    0.650000       0.328431   \n",
              "4     0.349315       0.685185          0.571429    0.650000       0.333333   \n",
              "\n",
              "    Shuttle  Drafted..tm.rnd.yr.       BMI  Player_Type  Position_Type  \\\n",
              "0  0.401460             0.003549  0.479925          0.5       0.000000   \n",
              "1  0.437956             0.025732  0.653595          0.0       0.333333   \n",
              "2  0.401460             0.021739  0.961718          0.5       0.833333   \n",
              "3  0.270073             0.012866  0.275444          0.0       0.166667   \n",
              "4  0.394161             0.008873  0.507937          0.0       0.666667   \n",
              "\n",
              "   Position  Drafted  Drafted..tm.rnd.yr._IDENT  \n",
              "0  0.789474      1.0                        0.0  \n",
              "1  0.157895      1.0                        0.0  \n",
              "2  0.526316      1.0                        0.0  \n",
              "3  0.315789      1.0                        0.0  \n",
              "4  0.578947      1.0                        0.0  "
            ],
            "text/html": [
              "\n",
              "  <div id=\"df-3e7e2fb5-4bb7-4fc8-9a70-63db475af308\">\n",
              "    <div class=\"colab-df-container\">\n",
              "      <div>\n",
              "<style scoped>\n",
              "    .dataframe tbody tr th:only-of-type {\n",
              "        vertical-align: middle;\n",
              "    }\n",
              "\n",
              "    .dataframe tbody tr th {\n",
              "        vertical-align: top;\n",
              "    }\n",
              "\n",
              "    .dataframe thead th {\n",
              "        text-align: right;\n",
              "    }\n",
              "</style>\n",
              "<table border=\"1\" class=\"dataframe\">\n",
              "  <thead>\n",
              "    <tr style=\"text-align: right;\">\n",
              "      <th></th>\n",
              "      <th>Year</th>\n",
              "      <th>Player</th>\n",
              "      <th>Age</th>\n",
              "      <th>School</th>\n",
              "      <th>Height</th>\n",
              "      <th>Weight</th>\n",
              "      <th>Sprint_40yd</th>\n",
              "      <th>Vertical_Jump</th>\n",
              "      <th>Bench_Press_Reps</th>\n",
              "      <th>Broad_Jump</th>\n",
              "      <th>Agility_3cone</th>\n",
              "      <th>Shuttle</th>\n",
              "      <th>Drafted..tm.rnd.yr.</th>\n",
              "      <th>BMI</th>\n",
              "      <th>Player_Type</th>\n",
              "      <th>Position_Type</th>\n",
              "      <th>Position</th>\n",
              "      <th>Drafted</th>\n",
              "      <th>Drafted..tm.rnd.yr._IDENT</th>\n",
              "    </tr>\n",
              "  </thead>\n",
              "  <tbody>\n",
              "    <tr>\n",
              "      <th>0</th>\n",
              "      <td>2009</td>\n",
              "      <td>Beanie Wells\\WellCh00</td>\n",
              "      <td>0.2</td>\n",
              "      <td>0.646825</td>\n",
              "      <td>0.470588</td>\n",
              "      <td>0.388601</td>\n",
              "      <td>0.089041</td>\n",
              "      <td>0.574074</td>\n",
              "      <td>0.547619</td>\n",
              "      <td>0.783333</td>\n",
              "      <td>0.401961</td>\n",
              "      <td>0.401460</td>\n",
              "      <td>0.003549</td>\n",
              "      <td>0.479925</td>\n",
              "      <td>0.5</td>\n",
              "      <td>0.000000</td>\n",
              "      <td>0.789474</td>\n",
              "      <td>1.0</td>\n",
              "      <td>0.0</td>\n",
              "    </tr>\n",
              "    <tr>\n",
              "      <th>1</th>\n",
              "      <td>2009</td>\n",
              "      <td>Will Davis\\DaviWi99</td>\n",
              "      <td>0.4</td>\n",
              "      <td>0.345238</td>\n",
              "      <td>0.529412</td>\n",
              "      <td>0.523316</td>\n",
              "      <td>0.410959</td>\n",
              "      <td>0.555556</td>\n",
              "      <td>0.595238</td>\n",
              "      <td>0.566667</td>\n",
              "      <td>0.475490</td>\n",
              "      <td>0.437956</td>\n",
              "      <td>0.025732</td>\n",
              "      <td>0.653595</td>\n",
              "      <td>0.0</td>\n",
              "      <td>0.333333</td>\n",
              "      <td>0.157895</td>\n",
              "      <td>1.0</td>\n",
              "      <td>0.0</td>\n",
              "    </tr>\n",
              "    <tr>\n",
              "      <th>2</th>\n",
              "      <td>2009</td>\n",
              "      <td>Herman Johnson\\JohnHe23</td>\n",
              "      <td>0.6</td>\n",
              "      <td>0.400794</td>\n",
              "      <td>0.823529</td>\n",
              "      <td>0.994819</td>\n",
              "      <td>0.863014</td>\n",
              "      <td>0.537037</td>\n",
              "      <td>0.452381</td>\n",
              "      <td>0.650000</td>\n",
              "      <td>0.401961</td>\n",
              "      <td>0.401460</td>\n",
              "      <td>0.021739</td>\n",
              "      <td>0.961718</td>\n",
              "      <td>0.5</td>\n",
              "      <td>0.833333</td>\n",
              "      <td>0.526316</td>\n",
              "      <td>1.0</td>\n",
              "      <td>0.0</td>\n",
              "    </tr>\n",
              "    <tr>\n",
              "      <th>3</th>\n",
              "      <td>2009</td>\n",
              "      <td>Rashad Johnson\\JohnRa98</td>\n",
              "      <td>0.5</td>\n",
              "      <td>0.015873</td>\n",
              "      <td>0.352941</td>\n",
              "      <td>0.222798</td>\n",
              "      <td>0.164384</td>\n",
              "      <td>0.703704</td>\n",
              "      <td>0.309524</td>\n",
              "      <td>0.650000</td>\n",
              "      <td>0.328431</td>\n",
              "      <td>0.270073</td>\n",
              "      <td>0.012866</td>\n",
              "      <td>0.275444</td>\n",
              "      <td>0.0</td>\n",
              "      <td>0.166667</td>\n",
              "      <td>0.315789</td>\n",
              "      <td>1.0</td>\n",
              "      <td>0.0</td>\n",
              "    </tr>\n",
              "    <tr>\n",
              "      <th>4</th>\n",
              "      <td>2009</td>\n",
              "      <td>Cody Brown\\BrowCo96</td>\n",
              "      <td>0.4</td>\n",
              "      <td>0.182540</td>\n",
              "      <td>0.529412</td>\n",
              "      <td>0.435233</td>\n",
              "      <td>0.349315</td>\n",
              "      <td>0.685185</td>\n",
              "      <td>0.571429</td>\n",
              "      <td>0.650000</td>\n",
              "      <td>0.333333</td>\n",
              "      <td>0.394161</td>\n",
              "      <td>0.008873</td>\n",
              "      <td>0.507937</td>\n",
              "      <td>0.0</td>\n",
              "      <td>0.666667</td>\n",
              "      <td>0.578947</td>\n",
              "      <td>1.0</td>\n",
              "      <td>0.0</td>\n",
              "    </tr>\n",
              "  </tbody>\n",
              "</table>\n",
              "</div>\n",
              "      <button class=\"colab-df-convert\" onclick=\"convertToInteractive('df-3e7e2fb5-4bb7-4fc8-9a70-63db475af308')\"\n",
              "              title=\"Convert this dataframe to an interactive table.\"\n",
              "              style=\"display:none;\">\n",
              "        \n",
              "  <svg xmlns=\"http://www.w3.org/2000/svg\" height=\"24px\"viewBox=\"0 0 24 24\"\n",
              "       width=\"24px\">\n",
              "    <path d=\"M0 0h24v24H0V0z\" fill=\"none\"/>\n",
              "    <path d=\"M18.56 5.44l.94 2.06.94-2.06 2.06-.94-2.06-.94-.94-2.06-.94 2.06-2.06.94zm-11 1L8.5 8.5l.94-2.06 2.06-.94-2.06-.94L8.5 2.5l-.94 2.06-2.06.94zm10 10l.94 2.06.94-2.06 2.06-.94-2.06-.94-.94-2.06-.94 2.06-2.06.94z\"/><path d=\"M17.41 7.96l-1.37-1.37c-.4-.4-.92-.59-1.43-.59-.52 0-1.04.2-1.43.59L10.3 9.45l-7.72 7.72c-.78.78-.78 2.05 0 2.83L4 21.41c.39.39.9.59 1.41.59.51 0 1.02-.2 1.41-.59l7.78-7.78 2.81-2.81c.8-.78.8-2.07 0-2.86zM5.41 20L4 18.59l7.72-7.72 1.47 1.35L5.41 20z\"/>\n",
              "  </svg>\n",
              "      </button>\n",
              "      \n",
              "  <style>\n",
              "    .colab-df-container {\n",
              "      display:flex;\n",
              "      flex-wrap:wrap;\n",
              "      gap: 12px;\n",
              "    }\n",
              "\n",
              "    .colab-df-convert {\n",
              "      background-color: #E8F0FE;\n",
              "      border: none;\n",
              "      border-radius: 50%;\n",
              "      cursor: pointer;\n",
              "      display: none;\n",
              "      fill: #1967D2;\n",
              "      height: 32px;\n",
              "      padding: 0 0 0 0;\n",
              "      width: 32px;\n",
              "    }\n",
              "\n",
              "    .colab-df-convert:hover {\n",
              "      background-color: #E2EBFA;\n",
              "      box-shadow: 0px 1px 2px rgba(60, 64, 67, 0.3), 0px 1px 3px 1px rgba(60, 64, 67, 0.15);\n",
              "      fill: #174EA6;\n",
              "    }\n",
              "\n",
              "    [theme=dark] .colab-df-convert {\n",
              "      background-color: #3B4455;\n",
              "      fill: #D2E3FC;\n",
              "    }\n",
              "\n",
              "    [theme=dark] .colab-df-convert:hover {\n",
              "      background-color: #434B5C;\n",
              "      box-shadow: 0px 1px 3px 1px rgba(0, 0, 0, 0.15);\n",
              "      filter: drop-shadow(0px 1px 2px rgba(0, 0, 0, 0.3));\n",
              "      fill: #FFFFFF;\n",
              "    }\n",
              "  </style>\n",
              "\n",
              "      <script>\n",
              "        const buttonEl =\n",
              "          document.querySelector('#df-3e7e2fb5-4bb7-4fc8-9a70-63db475af308 button.colab-df-convert');\n",
              "        buttonEl.style.display =\n",
              "          google.colab.kernel.accessAllowed ? 'block' : 'none';\n",
              "\n",
              "        async function convertToInteractive(key) {\n",
              "          const element = document.querySelector('#df-3e7e2fb5-4bb7-4fc8-9a70-63db475af308');\n",
              "          const dataTable =\n",
              "            await google.colab.kernel.invokeFunction('convertToInteractive',\n",
              "                                                     [key], {});\n",
              "          if (!dataTable) return;\n",
              "\n",
              "          const docLinkHtml = 'Like what you see? Visit the ' +\n",
              "            '<a target=\"_blank\" href=https://colab.research.google.com/notebooks/data_table.ipynb>data table notebook</a>'\n",
              "            + ' to learn more about interactive tables.';\n",
              "          element.innerHTML = '';\n",
              "          dataTable['output_type'] = 'display_data';\n",
              "          await google.colab.output.renderOutput(dataTable, element);\n",
              "          const docLink = document.createElement('div');\n",
              "          docLink.innerHTML = docLinkHtml;\n",
              "          element.appendChild(docLink);\n",
              "        }\n",
              "      </script>\n",
              "    </div>\n",
              "  </div>\n",
              "  "
            ]
          },
          "metadata": {},
          "execution_count": 190
        }
      ]
    },
    {
      "cell_type": "code",
      "source": [
        "X_cls= df_clasificacion.drop(['Drafted','Year','Drafted..tm.rnd.yr._IDENT'],axis=1)#Se eliminan las columnas con datos de tipo caracter\n",
        "y_cls= df_clasificacion['Drafted']#Se agrega la columna para"
      ],
      "metadata": {
        "id": "ru4TEQNiP7wX"
      },
      "execution_count": 192,
      "outputs": []
    },
    {
      "cell_type": "code",
      "source": [
        "X_cls.head(5)"
      ],
      "metadata": {
        "colab": {
          "base_uri": "https://localhost:8080/",
          "height": 357
        },
        "id": "oR4kpoCIQAy8",
        "outputId": "3262f566-9465-436e-f1f9-a3d81caa5037"
      },
      "execution_count": 193,
      "outputs": [
        {
          "output_type": "execute_result",
          "data": {
            "text/plain": [
              "                    Player  Age    School    Height    Weight  Sprint_40yd  \\\n",
              "0    Beanie Wells\\WellCh00  0.2  0.646825  0.470588  0.388601     0.089041   \n",
              "1      Will Davis\\DaviWi99  0.4  0.345238  0.529412  0.523316     0.410959   \n",
              "2  Herman Johnson\\JohnHe23  0.6  0.400794  0.823529  0.994819     0.863014   \n",
              "3  Rashad Johnson\\JohnRa98  0.5  0.015873  0.352941  0.222798     0.164384   \n",
              "4      Cody Brown\\BrowCo96  0.4  0.182540  0.529412  0.435233     0.349315   \n",
              "\n",
              "   Vertical_Jump  Bench_Press_Reps  Broad_Jump  Agility_3cone   Shuttle  \\\n",
              "0       0.574074          0.547619    0.783333       0.401961  0.401460   \n",
              "1       0.555556          0.595238    0.566667       0.475490  0.437956   \n",
              "2       0.537037          0.452381    0.650000       0.401961  0.401460   \n",
              "3       0.703704          0.309524    0.650000       0.328431  0.270073   \n",
              "4       0.685185          0.571429    0.650000       0.333333  0.394161   \n",
              "\n",
              "   Drafted..tm.rnd.yr.       BMI  Player_Type  Position_Type  Position  \n",
              "0             0.003549  0.479925          0.5       0.000000  0.789474  \n",
              "1             0.025732  0.653595          0.0       0.333333  0.157895  \n",
              "2             0.021739  0.961718          0.5       0.833333  0.526316  \n",
              "3             0.012866  0.275444          0.0       0.166667  0.315789  \n",
              "4             0.008873  0.507937          0.0       0.666667  0.578947  "
            ],
            "text/html": [
              "\n",
              "  <div id=\"df-9bb9e433-c14f-4c76-937c-cb81f971e9b9\">\n",
              "    <div class=\"colab-df-container\">\n",
              "      <div>\n",
              "<style scoped>\n",
              "    .dataframe tbody tr th:only-of-type {\n",
              "        vertical-align: middle;\n",
              "    }\n",
              "\n",
              "    .dataframe tbody tr th {\n",
              "        vertical-align: top;\n",
              "    }\n",
              "\n",
              "    .dataframe thead th {\n",
              "        text-align: right;\n",
              "    }\n",
              "</style>\n",
              "<table border=\"1\" class=\"dataframe\">\n",
              "  <thead>\n",
              "    <tr style=\"text-align: right;\">\n",
              "      <th></th>\n",
              "      <th>Player</th>\n",
              "      <th>Age</th>\n",
              "      <th>School</th>\n",
              "      <th>Height</th>\n",
              "      <th>Weight</th>\n",
              "      <th>Sprint_40yd</th>\n",
              "      <th>Vertical_Jump</th>\n",
              "      <th>Bench_Press_Reps</th>\n",
              "      <th>Broad_Jump</th>\n",
              "      <th>Agility_3cone</th>\n",
              "      <th>Shuttle</th>\n",
              "      <th>Drafted..tm.rnd.yr.</th>\n",
              "      <th>BMI</th>\n",
              "      <th>Player_Type</th>\n",
              "      <th>Position_Type</th>\n",
              "      <th>Position</th>\n",
              "    </tr>\n",
              "  </thead>\n",
              "  <tbody>\n",
              "    <tr>\n",
              "      <th>0</th>\n",
              "      <td>Beanie Wells\\WellCh00</td>\n",
              "      <td>0.2</td>\n",
              "      <td>0.646825</td>\n",
              "      <td>0.470588</td>\n",
              "      <td>0.388601</td>\n",
              "      <td>0.089041</td>\n",
              "      <td>0.574074</td>\n",
              "      <td>0.547619</td>\n",
              "      <td>0.783333</td>\n",
              "      <td>0.401961</td>\n",
              "      <td>0.401460</td>\n",
              "      <td>0.003549</td>\n",
              "      <td>0.479925</td>\n",
              "      <td>0.5</td>\n",
              "      <td>0.000000</td>\n",
              "      <td>0.789474</td>\n",
              "    </tr>\n",
              "    <tr>\n",
              "      <th>1</th>\n",
              "      <td>Will Davis\\DaviWi99</td>\n",
              "      <td>0.4</td>\n",
              "      <td>0.345238</td>\n",
              "      <td>0.529412</td>\n",
              "      <td>0.523316</td>\n",
              "      <td>0.410959</td>\n",
              "      <td>0.555556</td>\n",
              "      <td>0.595238</td>\n",
              "      <td>0.566667</td>\n",
              "      <td>0.475490</td>\n",
              "      <td>0.437956</td>\n",
              "      <td>0.025732</td>\n",
              "      <td>0.653595</td>\n",
              "      <td>0.0</td>\n",
              "      <td>0.333333</td>\n",
              "      <td>0.157895</td>\n",
              "    </tr>\n",
              "    <tr>\n",
              "      <th>2</th>\n",
              "      <td>Herman Johnson\\JohnHe23</td>\n",
              "      <td>0.6</td>\n",
              "      <td>0.400794</td>\n",
              "      <td>0.823529</td>\n",
              "      <td>0.994819</td>\n",
              "      <td>0.863014</td>\n",
              "      <td>0.537037</td>\n",
              "      <td>0.452381</td>\n",
              "      <td>0.650000</td>\n",
              "      <td>0.401961</td>\n",
              "      <td>0.401460</td>\n",
              "      <td>0.021739</td>\n",
              "      <td>0.961718</td>\n",
              "      <td>0.5</td>\n",
              "      <td>0.833333</td>\n",
              "      <td>0.526316</td>\n",
              "    </tr>\n",
              "    <tr>\n",
              "      <th>3</th>\n",
              "      <td>Rashad Johnson\\JohnRa98</td>\n",
              "      <td>0.5</td>\n",
              "      <td>0.015873</td>\n",
              "      <td>0.352941</td>\n",
              "      <td>0.222798</td>\n",
              "      <td>0.164384</td>\n",
              "      <td>0.703704</td>\n",
              "      <td>0.309524</td>\n",
              "      <td>0.650000</td>\n",
              "      <td>0.328431</td>\n",
              "      <td>0.270073</td>\n",
              "      <td>0.012866</td>\n",
              "      <td>0.275444</td>\n",
              "      <td>0.0</td>\n",
              "      <td>0.166667</td>\n",
              "      <td>0.315789</td>\n",
              "    </tr>\n",
              "    <tr>\n",
              "      <th>4</th>\n",
              "      <td>Cody Brown\\BrowCo96</td>\n",
              "      <td>0.4</td>\n",
              "      <td>0.182540</td>\n",
              "      <td>0.529412</td>\n",
              "      <td>0.435233</td>\n",
              "      <td>0.349315</td>\n",
              "      <td>0.685185</td>\n",
              "      <td>0.571429</td>\n",
              "      <td>0.650000</td>\n",
              "      <td>0.333333</td>\n",
              "      <td>0.394161</td>\n",
              "      <td>0.008873</td>\n",
              "      <td>0.507937</td>\n",
              "      <td>0.0</td>\n",
              "      <td>0.666667</td>\n",
              "      <td>0.578947</td>\n",
              "    </tr>\n",
              "  </tbody>\n",
              "</table>\n",
              "</div>\n",
              "      <button class=\"colab-df-convert\" onclick=\"convertToInteractive('df-9bb9e433-c14f-4c76-937c-cb81f971e9b9')\"\n",
              "              title=\"Convert this dataframe to an interactive table.\"\n",
              "              style=\"display:none;\">\n",
              "        \n",
              "  <svg xmlns=\"http://www.w3.org/2000/svg\" height=\"24px\"viewBox=\"0 0 24 24\"\n",
              "       width=\"24px\">\n",
              "    <path d=\"M0 0h24v24H0V0z\" fill=\"none\"/>\n",
              "    <path d=\"M18.56 5.44l.94 2.06.94-2.06 2.06-.94-2.06-.94-.94-2.06-.94 2.06-2.06.94zm-11 1L8.5 8.5l.94-2.06 2.06-.94-2.06-.94L8.5 2.5l-.94 2.06-2.06.94zm10 10l.94 2.06.94-2.06 2.06-.94-2.06-.94-.94-2.06-.94 2.06-2.06.94z\"/><path d=\"M17.41 7.96l-1.37-1.37c-.4-.4-.92-.59-1.43-.59-.52 0-1.04.2-1.43.59L10.3 9.45l-7.72 7.72c-.78.78-.78 2.05 0 2.83L4 21.41c.39.39.9.59 1.41.59.51 0 1.02-.2 1.41-.59l7.78-7.78 2.81-2.81c.8-.78.8-2.07 0-2.86zM5.41 20L4 18.59l7.72-7.72 1.47 1.35L5.41 20z\"/>\n",
              "  </svg>\n",
              "      </button>\n",
              "      \n",
              "  <style>\n",
              "    .colab-df-container {\n",
              "      display:flex;\n",
              "      flex-wrap:wrap;\n",
              "      gap: 12px;\n",
              "    }\n",
              "\n",
              "    .colab-df-convert {\n",
              "      background-color: #E8F0FE;\n",
              "      border: none;\n",
              "      border-radius: 50%;\n",
              "      cursor: pointer;\n",
              "      display: none;\n",
              "      fill: #1967D2;\n",
              "      height: 32px;\n",
              "      padding: 0 0 0 0;\n",
              "      width: 32px;\n",
              "    }\n",
              "\n",
              "    .colab-df-convert:hover {\n",
              "      background-color: #E2EBFA;\n",
              "      box-shadow: 0px 1px 2px rgba(60, 64, 67, 0.3), 0px 1px 3px 1px rgba(60, 64, 67, 0.15);\n",
              "      fill: #174EA6;\n",
              "    }\n",
              "\n",
              "    [theme=dark] .colab-df-convert {\n",
              "      background-color: #3B4455;\n",
              "      fill: #D2E3FC;\n",
              "    }\n",
              "\n",
              "    [theme=dark] .colab-df-convert:hover {\n",
              "      background-color: #434B5C;\n",
              "      box-shadow: 0px 1px 3px 1px rgba(0, 0, 0, 0.15);\n",
              "      filter: drop-shadow(0px 1px 2px rgba(0, 0, 0, 0.3));\n",
              "      fill: #FFFFFF;\n",
              "    }\n",
              "  </style>\n",
              "\n",
              "      <script>\n",
              "        const buttonEl =\n",
              "          document.querySelector('#df-9bb9e433-c14f-4c76-937c-cb81f971e9b9 button.colab-df-convert');\n",
              "        buttonEl.style.display =\n",
              "          google.colab.kernel.accessAllowed ? 'block' : 'none';\n",
              "\n",
              "        async function convertToInteractive(key) {\n",
              "          const element = document.querySelector('#df-9bb9e433-c14f-4c76-937c-cb81f971e9b9');\n",
              "          const dataTable =\n",
              "            await google.colab.kernel.invokeFunction('convertToInteractive',\n",
              "                                                     [key], {});\n",
              "          if (!dataTable) return;\n",
              "\n",
              "          const docLinkHtml = 'Like what you see? Visit the ' +\n",
              "            '<a target=\"_blank\" href=https://colab.research.google.com/notebooks/data_table.ipynb>data table notebook</a>'\n",
              "            + ' to learn more about interactive tables.';\n",
              "          element.innerHTML = '';\n",
              "          dataTable['output_type'] = 'display_data';\n",
              "          await google.colab.output.renderOutput(dataTable, element);\n",
              "          const docLink = document.createElement('div');\n",
              "          docLink.innerHTML = docLinkHtml;\n",
              "          element.appendChild(docLink);\n",
              "        }\n",
              "      </script>\n",
              "    </div>\n",
              "  </div>\n",
              "  "
            ]
          },
          "metadata": {},
          "execution_count": 193
        }
      ]
    },
    {
      "cell_type": "code",
      "source": [
        "y_cls.head(5)"
      ],
      "metadata": {
        "colab": {
          "base_uri": "https://localhost:8080/"
        },
        "id": "jwvMqCNVQGla",
        "outputId": "75a05a7b-01fe-4210-cc0d-d6709078e1d7"
      },
      "execution_count": 194,
      "outputs": [
        {
          "output_type": "execute_result",
          "data": {
            "text/plain": [
              "0    1.0\n",
              "1    1.0\n",
              "2    1.0\n",
              "3    1.0\n",
              "4    1.0\n",
              "Name: Drafted, dtype: float64"
            ]
          },
          "metadata": {},
          "execution_count": 194
        }
      ]
    },
    {
      "cell_type": "code",
      "source": [
        "df_clasificacion.info()"
      ],
      "metadata": {
        "colab": {
          "base_uri": "https://localhost:8080/"
        },
        "id": "MMnjgqVZQIn0",
        "outputId": "7a949fa8-91cb-4148-e3af-0c4f55706d0a"
      },
      "execution_count": 195,
      "outputs": [
        {
          "output_type": "stream",
          "name": "stdout",
          "text": [
            "<class 'pandas.core.frame.DataFrame'>\n",
            "RangeIndex: 3477 entries, 0 to 3476\n",
            "Data columns (total 19 columns):\n",
            " #   Column                     Non-Null Count  Dtype  \n",
            "---  ------                     --------------  -----  \n",
            " 0   Year                       3477 non-null   int64  \n",
            " 1   Player                     3477 non-null   object \n",
            " 2   Age                        3477 non-null   float64\n",
            " 3   School                     3477 non-null   float64\n",
            " 4   Height                     3477 non-null   float64\n",
            " 5   Weight                     3477 non-null   float64\n",
            " 6   Sprint_40yd                3477 non-null   float64\n",
            " 7   Vertical_Jump              3477 non-null   float64\n",
            " 8   Bench_Press_Reps           3477 non-null   float64\n",
            " 9   Broad_Jump                 3477 non-null   float64\n",
            " 10  Agility_3cone              3477 non-null   float64\n",
            " 11  Shuttle                    3477 non-null   float64\n",
            " 12  Drafted..tm.rnd.yr.        3477 non-null   float64\n",
            " 13  BMI                        3477 non-null   float64\n",
            " 14  Player_Type                3477 non-null   float64\n",
            " 15  Position_Type              3477 non-null   float64\n",
            " 16  Position                   3477 non-null   float64\n",
            " 17  Drafted                    3477 non-null   float64\n",
            " 18  Drafted..tm.rnd.yr._IDENT  3477 non-null   float64\n",
            "dtypes: float64(17), int64(1), object(1)\n",
            "memory usage: 516.2+ KB\n"
          ]
        }
      ]
    },
    {
      "cell_type": "code",
      "source": [
        "correlations = abs(df_clasificacion.corr()['Drafted'].drop('Drafted'))\n",
        "\n",
        "# Ordenar las características por su correlación con la variable objetivo\n",
        "sorted_features = correlations.sort_values(ascending=False)\n",
        "\n",
        "print(sorted_features)"
      ],
      "metadata": {
        "colab": {
          "base_uri": "https://localhost:8080/"
        },
        "id": "GP8FTvm0YM-D",
        "outputId": "2d8c213c-8ea1-4b05-cea3-06f649afdde0"
      },
      "execution_count": 233,
      "outputs": [
        {
          "output_type": "stream",
          "name": "stdout",
          "text": [
            "Drafted..tm.rnd.yr._IDENT    1.000000\n",
            "Drafted..tm.rnd.yr.          0.344005\n",
            "Player_Type                  0.139350\n",
            "Bench_Press_Reps             0.119748\n",
            "Age                          0.117316\n",
            "Vertical_Jump                0.100261\n",
            "Sprint_40yd                  0.097926\n",
            "Broad_Jump                   0.080007\n",
            "Weight                       0.075714\n",
            "BMI                          0.072121\n",
            "Position                     0.065252\n",
            "Shuttle                      0.064016\n",
            "Height                       0.057537\n",
            "Agility_3cone                0.050161\n",
            "Year                         0.028912\n",
            "Position_Type                0.028294\n",
            "School                       0.005272\n",
            "Name: Drafted, dtype: float64\n"
          ]
        },
        {
          "output_type": "stream",
          "name": "stderr",
          "text": [
            "<ipython-input-233-b57a22759efe>:1: FutureWarning: The default value of numeric_only in DataFrame.corr is deprecated. In a future version, it will default to False. Select only valid columns or specify the value of numeric_only to silence this warning.\n",
            "  correlations = abs(df_clasificacion.corr()['Drafted'].drop('Drafted'))\n"
          ]
        }
      ]
    },
    {
      "cell_type": "code",
      "source": [
        "from sklearn.model_selection import cross_val_score, train_test_split\n",
        "\n",
        "X_cls= df_clasificacion.drop(['Player','Drafted','Year','Drafted..tm.rnd.yr._IDENT'],axis=1)#Se eliminan las columnas con datos de tipo caracter\n",
        "y_cls= df_clasificacion['Drafted']#Se agrega la columna para\n",
        "\n",
        "X_train, X_test, y_train, y_test = train_test_split(X_cls, y_cls, test_size=0.2, random_state=42)"
      ],
      "metadata": {
        "id": "Pf2rb9xYQMaX"
      },
      "execution_count": 206,
      "outputs": []
    },
    {
      "cell_type": "code",
      "source": [
        "from sklearn.svm import SVC\n",
        "\n",
        "svm = SVC()\n",
        "\n",
        "svm.fit(X_train, y_train)"
      ],
      "metadata": {
        "colab": {
          "base_uri": "https://localhost:8080/",
          "height": 74
        },
        "id": "amx7Hi4jQVeh",
        "outputId": "203ed3e3-1500-473b-aef3-085eefebed1b"
      },
      "execution_count": 207,
      "outputs": [
        {
          "output_type": "execute_result",
          "data": {
            "text/plain": [
              "SVC()"
            ],
            "text/html": [
              "<style>#sk-container-id-26 {color: black;background-color: white;}#sk-container-id-26 pre{padding: 0;}#sk-container-id-26 div.sk-toggleable {background-color: white;}#sk-container-id-26 label.sk-toggleable__label {cursor: pointer;display: block;width: 100%;margin-bottom: 0;padding: 0.3em;box-sizing: border-box;text-align: center;}#sk-container-id-26 label.sk-toggleable__label-arrow:before {content: \"▸\";float: left;margin-right: 0.25em;color: #696969;}#sk-container-id-26 label.sk-toggleable__label-arrow:hover:before {color: black;}#sk-container-id-26 div.sk-estimator:hover label.sk-toggleable__label-arrow:before {color: black;}#sk-container-id-26 div.sk-toggleable__content {max-height: 0;max-width: 0;overflow: hidden;text-align: left;background-color: #f0f8ff;}#sk-container-id-26 div.sk-toggleable__content pre {margin: 0.2em;color: black;border-radius: 0.25em;background-color: #f0f8ff;}#sk-container-id-26 input.sk-toggleable__control:checked~div.sk-toggleable__content {max-height: 200px;max-width: 100%;overflow: auto;}#sk-container-id-26 input.sk-toggleable__control:checked~label.sk-toggleable__label-arrow:before {content: \"▾\";}#sk-container-id-26 div.sk-estimator input.sk-toggleable__control:checked~label.sk-toggleable__label {background-color: #d4ebff;}#sk-container-id-26 div.sk-label input.sk-toggleable__control:checked~label.sk-toggleable__label {background-color: #d4ebff;}#sk-container-id-26 input.sk-hidden--visually {border: 0;clip: rect(1px 1px 1px 1px);clip: rect(1px, 1px, 1px, 1px);height: 1px;margin: -1px;overflow: hidden;padding: 0;position: absolute;width: 1px;}#sk-container-id-26 div.sk-estimator {font-family: monospace;background-color: #f0f8ff;border: 1px dotted black;border-radius: 0.25em;box-sizing: border-box;margin-bottom: 0.5em;}#sk-container-id-26 div.sk-estimator:hover {background-color: #d4ebff;}#sk-container-id-26 div.sk-parallel-item::after {content: \"\";width: 100%;border-bottom: 1px solid gray;flex-grow: 1;}#sk-container-id-26 div.sk-label:hover label.sk-toggleable__label {background-color: #d4ebff;}#sk-container-id-26 div.sk-serial::before {content: \"\";position: absolute;border-left: 1px solid gray;box-sizing: border-box;top: 0;bottom: 0;left: 50%;z-index: 0;}#sk-container-id-26 div.sk-serial {display: flex;flex-direction: column;align-items: center;background-color: white;padding-right: 0.2em;padding-left: 0.2em;position: relative;}#sk-container-id-26 div.sk-item {position: relative;z-index: 1;}#sk-container-id-26 div.sk-parallel {display: flex;align-items: stretch;justify-content: center;background-color: white;position: relative;}#sk-container-id-26 div.sk-item::before, #sk-container-id-26 div.sk-parallel-item::before {content: \"\";position: absolute;border-left: 1px solid gray;box-sizing: border-box;top: 0;bottom: 0;left: 50%;z-index: -1;}#sk-container-id-26 div.sk-parallel-item {display: flex;flex-direction: column;z-index: 1;position: relative;background-color: white;}#sk-container-id-26 div.sk-parallel-item:first-child::after {align-self: flex-end;width: 50%;}#sk-container-id-26 div.sk-parallel-item:last-child::after {align-self: flex-start;width: 50%;}#sk-container-id-26 div.sk-parallel-item:only-child::after {width: 0;}#sk-container-id-26 div.sk-dashed-wrapped {border: 1px dashed gray;margin: 0 0.4em 0.5em 0.4em;box-sizing: border-box;padding-bottom: 0.4em;background-color: white;}#sk-container-id-26 div.sk-label label {font-family: monospace;font-weight: bold;display: inline-block;line-height: 1.2em;}#sk-container-id-26 div.sk-label-container {text-align: center;}#sk-container-id-26 div.sk-container {/* jupyter's `normalize.less` sets `[hidden] { display: none; }` but bootstrap.min.css set `[hidden] { display: none !important; }` so we also need the `!important` here to be able to override the default hidden behavior on the sphinx rendered scikit-learn.org. See: https://github.com/scikit-learn/scikit-learn/issues/21755 */display: inline-block !important;position: relative;}#sk-container-id-26 div.sk-text-repr-fallback {display: none;}</style><div id=\"sk-container-id-26\" class=\"sk-top-container\"><div class=\"sk-text-repr-fallback\"><pre>SVC()</pre><b>In a Jupyter environment, please rerun this cell to show the HTML representation or trust the notebook. <br />On GitHub, the HTML representation is unable to render, please try loading this page with nbviewer.org.</b></div><div class=\"sk-container\" hidden><div class=\"sk-item\"><div class=\"sk-estimator sk-toggleable\"><input class=\"sk-toggleable__control sk-hidden--visually\" id=\"sk-estimator-id-26\" type=\"checkbox\" checked><label for=\"sk-estimator-id-26\" class=\"sk-toggleable__label sk-toggleable__label-arrow\">SVC</label><div class=\"sk-toggleable__content\"><pre>SVC()</pre></div></div></div></div></div>"
            ]
          },
          "metadata": {},
          "execution_count": 207
        }
      ]
    },
    {
      "cell_type": "code",
      "source": [
        "cross_val_scores = cross_val_score(svm, X_cls, y_cls, cv=5)\n",
        "mean_accuracy = cross_val_scores.mean()\n",
        "print('Cross-Validation Mean Accuracy: {:.2f}%'.format(mean_accuracy*100))"
      ],
      "metadata": {
        "colab": {
          "base_uri": "https://localhost:8080/"
        },
        "id": "fZLzHK0OQX-W",
        "outputId": "aac8d0ba-acfd-4a14-fded-8c6497e9ee25"
      },
      "execution_count": 209,
      "outputs": [
        {
          "output_type": "stream",
          "name": "stdout",
          "text": [
            "Cross-Validation Mean Accuracy: 81.56%\n"
          ]
        }
      ]
    },
    {
      "cell_type": "code",
      "source": [
        "from sklearn.tree import DecisionTreeClassifier\n",
        "from sklearn.metrics import accuracy_score\n",
        "from sklearn.model_selection import cross_val_score\n",
        "\n",
        "\n",
        "# Crear el modelo de árbol de decisión\n",
        "model = DecisionTreeClassifier()\n",
        "\n",
        "# Calcular el accuracy utilizando k-fold cross-validation\n",
        "k = 5  # Número de folds\n",
        "accuracies = cross_val_score(model, X_cls, y_cls, cv=5)\n",
        "\n",
        "# Calcular el accuracy promedio\n",
        "mean_accuracy = accuracies.mean()\n",
        "print(\"Accuracy promedio: {:.2f}%\".format(mean_accuracy*100))"
      ],
      "metadata": {
        "colab": {
          "base_uri": "https://localhost:8080/"
        },
        "id": "AsVLtZ1SRNel",
        "outputId": "7aa4f853-d869-4ef7-8961-08fa0fec95e3"
      },
      "execution_count": 210,
      "outputs": [
        {
          "output_type": "stream",
          "name": "stdout",
          "text": [
            "Accuracy promedio: 99.94%\n"
          ]
        }
      ]
    },
    {
      "cell_type": "code",
      "source": [],
      "metadata": {
        "id": "tGgO4-rPRZVq"
      },
      "execution_count": null,
      "outputs": []
    },
    {
      "cell_type": "code",
      "source": [],
      "metadata": {
        "id": "ZLRqsAzvRfV5"
      },
      "execution_count": null,
      "outputs": []
    },
    {
      "cell_type": "code",
      "source": [
        "#Entrenamiento de modelo RandomForestClassifier\n",
        "from sklearn.ensemble import RandomForestClassifier\n",
        "modelo_RF = RandomForestClassifier()\n",
        "modelo_RF.fit(X_train,y_train)"
      ],
      "metadata": {
        "colab": {
          "base_uri": "https://localhost:8080/",
          "height": 74
        },
        "id": "l0UbpEAjRfHY",
        "outputId": "cda5d914-de69-4048-f879-1fca42eac953"
      },
      "execution_count": 211,
      "outputs": [
        {
          "output_type": "execute_result",
          "data": {
            "text/plain": [
              "RandomForestClassifier()"
            ],
            "text/html": [
              "<style>#sk-container-id-27 {color: black;background-color: white;}#sk-container-id-27 pre{padding: 0;}#sk-container-id-27 div.sk-toggleable {background-color: white;}#sk-container-id-27 label.sk-toggleable__label {cursor: pointer;display: block;width: 100%;margin-bottom: 0;padding: 0.3em;box-sizing: border-box;text-align: center;}#sk-container-id-27 label.sk-toggleable__label-arrow:before {content: \"▸\";float: left;margin-right: 0.25em;color: #696969;}#sk-container-id-27 label.sk-toggleable__label-arrow:hover:before {color: black;}#sk-container-id-27 div.sk-estimator:hover label.sk-toggleable__label-arrow:before {color: black;}#sk-container-id-27 div.sk-toggleable__content {max-height: 0;max-width: 0;overflow: hidden;text-align: left;background-color: #f0f8ff;}#sk-container-id-27 div.sk-toggleable__content pre {margin: 0.2em;color: black;border-radius: 0.25em;background-color: #f0f8ff;}#sk-container-id-27 input.sk-toggleable__control:checked~div.sk-toggleable__content {max-height: 200px;max-width: 100%;overflow: auto;}#sk-container-id-27 input.sk-toggleable__control:checked~label.sk-toggleable__label-arrow:before {content: \"▾\";}#sk-container-id-27 div.sk-estimator input.sk-toggleable__control:checked~label.sk-toggleable__label {background-color: #d4ebff;}#sk-container-id-27 div.sk-label input.sk-toggleable__control:checked~label.sk-toggleable__label {background-color: #d4ebff;}#sk-container-id-27 input.sk-hidden--visually {border: 0;clip: rect(1px 1px 1px 1px);clip: rect(1px, 1px, 1px, 1px);height: 1px;margin: -1px;overflow: hidden;padding: 0;position: absolute;width: 1px;}#sk-container-id-27 div.sk-estimator {font-family: monospace;background-color: #f0f8ff;border: 1px dotted black;border-radius: 0.25em;box-sizing: border-box;margin-bottom: 0.5em;}#sk-container-id-27 div.sk-estimator:hover {background-color: #d4ebff;}#sk-container-id-27 div.sk-parallel-item::after {content: \"\";width: 100%;border-bottom: 1px solid gray;flex-grow: 1;}#sk-container-id-27 div.sk-label:hover label.sk-toggleable__label {background-color: #d4ebff;}#sk-container-id-27 div.sk-serial::before {content: \"\";position: absolute;border-left: 1px solid gray;box-sizing: border-box;top: 0;bottom: 0;left: 50%;z-index: 0;}#sk-container-id-27 div.sk-serial {display: flex;flex-direction: column;align-items: center;background-color: white;padding-right: 0.2em;padding-left: 0.2em;position: relative;}#sk-container-id-27 div.sk-item {position: relative;z-index: 1;}#sk-container-id-27 div.sk-parallel {display: flex;align-items: stretch;justify-content: center;background-color: white;position: relative;}#sk-container-id-27 div.sk-item::before, #sk-container-id-27 div.sk-parallel-item::before {content: \"\";position: absolute;border-left: 1px solid gray;box-sizing: border-box;top: 0;bottom: 0;left: 50%;z-index: -1;}#sk-container-id-27 div.sk-parallel-item {display: flex;flex-direction: column;z-index: 1;position: relative;background-color: white;}#sk-container-id-27 div.sk-parallel-item:first-child::after {align-self: flex-end;width: 50%;}#sk-container-id-27 div.sk-parallel-item:last-child::after {align-self: flex-start;width: 50%;}#sk-container-id-27 div.sk-parallel-item:only-child::after {width: 0;}#sk-container-id-27 div.sk-dashed-wrapped {border: 1px dashed gray;margin: 0 0.4em 0.5em 0.4em;box-sizing: border-box;padding-bottom: 0.4em;background-color: white;}#sk-container-id-27 div.sk-label label {font-family: monospace;font-weight: bold;display: inline-block;line-height: 1.2em;}#sk-container-id-27 div.sk-label-container {text-align: center;}#sk-container-id-27 div.sk-container {/* jupyter's `normalize.less` sets `[hidden] { display: none; }` but bootstrap.min.css set `[hidden] { display: none !important; }` so we also need the `!important` here to be able to override the default hidden behavior on the sphinx rendered scikit-learn.org. See: https://github.com/scikit-learn/scikit-learn/issues/21755 */display: inline-block !important;position: relative;}#sk-container-id-27 div.sk-text-repr-fallback {display: none;}</style><div id=\"sk-container-id-27\" class=\"sk-top-container\"><div class=\"sk-text-repr-fallback\"><pre>RandomForestClassifier()</pre><b>In a Jupyter environment, please rerun this cell to show the HTML representation or trust the notebook. <br />On GitHub, the HTML representation is unable to render, please try loading this page with nbviewer.org.</b></div><div class=\"sk-container\" hidden><div class=\"sk-item\"><div class=\"sk-estimator sk-toggleable\"><input class=\"sk-toggleable__control sk-hidden--visually\" id=\"sk-estimator-id-27\" type=\"checkbox\" checked><label for=\"sk-estimator-id-27\" class=\"sk-toggleable__label sk-toggleable__label-arrow\">RandomForestClassifier</label><div class=\"sk-toggleable__content\"><pre>RandomForestClassifier()</pre></div></div></div></div></div>"
            ]
          },
          "metadata": {},
          "execution_count": 211
        }
      ]
    },
    {
      "cell_type": "code",
      "source": [
        "import tensorflow as tf\n",
        "from sklearn.preprocessing import StandardScaler\n",
        "from sklearn.pipeline import Pipeline\n",
        "from tensorflow.keras.wrappers.scikit_learn import KerasClassifier\n",
        "def create_model():\n",
        "    model = tf.keras.Sequential()\n",
        "    model.add(tf.keras.layers.Dense(64, activation='relu', input_shape=(X_cls.shape[1],)))\n",
        "    model.add(tf.keras.layers.Dense(64, activation='relu'))\n",
        "    model.add(tf.keras.layers.Dense(1, activation='sigmoid'))\n",
        "    model.compile(optimizer='adam', loss='binary_crossentropy', metrics=['accuracy'])\n",
        "    return model\n",
        "\n",
        "\n",
        "model_n = KerasClassifier(build_fn=create_model, epochs=1500, batch_size=32, verbose=False)\n",
        "model_n.fit(X_train,y_train)\n",
        "\n",
        "transfor_model = Pipeline([('preprocessing', scaler), ('classification', model_n)])"
      ],
      "metadata": {
        "colab": {
          "base_uri": "https://localhost:8080/"
        },
        "id": "EBDAOQnpRoYQ",
        "outputId": "f31ba484-8ced-456b-8b72-5050cc796d25"
      },
      "execution_count": 212,
      "outputs": [
        {
          "output_type": "stream",
          "name": "stderr",
          "text": [
            "<ipython-input-212-56b0097c534b>:14: DeprecationWarning: KerasClassifier is deprecated, use Sci-Keras (https://github.com/adriangb/scikeras) instead. See https://www.adriangb.com/scikeras/stable/migration.html for help migrating.\n",
            "  model_n = KerasClassifier(build_fn=create_model, epochs=1500, batch_size=32, verbose=False)\n"
          ]
        }
      ]
    },
    {
      "cell_type": "code",
      "source": [
        "#accuracy modelo KNeighborsClassifier\n",
        "from sklearn.model_selection import cross_val_score\n",
        "scores_knc = cross_val_score(modelo_RF,X_cls,y_cls,cv=5,scoring='accuracy')\n",
        "print('El accuracy utilizando RandomForestClassifier es de:',scores_knc.mean())"
      ],
      "metadata": {
        "colab": {
          "base_uri": "https://localhost:8080/"
        },
        "id": "_r2wnIT3R0Lz",
        "outputId": "309baaf9-cbb7-4b94-ed19-b943a2de8474"
      },
      "execution_count": 214,
      "outputs": [
        {
          "output_type": "stream",
          "name": "stdout",
          "text": [
            "El accuracy utilizando RandomForestClassifier es de: 0.998561978003804\n"
          ]
        }
      ]
    },
    {
      "cell_type": "code",
      "source": [
        "scores_redN = cross_val_score(transfor_model,X_cls,y_cls,cv=5,scoring='accuracy')\n",
        "print('El accuracy utilizando una red neuronal es de:',scores_redN.mean())"
      ],
      "metadata": {
        "colab": {
          "base_uri": "https://localhost:8080/"
        },
        "id": "sa6BNAaKSAap",
        "outputId": "59a5138a-bd7b-4638-d783-3989ea290ea5"
      },
      "execution_count": 217,
      "outputs": [
        {
          "output_type": "stream",
          "name": "stdout",
          "text": [
            "22/22 [==============================] - 0s 1ms/step\n",
            "22/22 [==============================] - 0s 2ms/step\n",
            "22/22 [==============================] - 0s 2ms/step\n",
            "22/22 [==============================] - 0s 1ms/step\n",
            "22/22 [==============================] - 0s 2ms/step\n",
            "El accuracy utilizando una red neuronal es de: 0.9608831555445299\n"
          ]
        }
      ]
    },
    {
      "cell_type": "code",
      "source": [],
      "metadata": {
        "id": "ix5DBG6_S31A"
      },
      "execution_count": null,
      "outputs": []
    },
    {
      "cell_type": "markdown",
      "source": [],
      "metadata": {
        "id": "4-7h6EuTc93g"
      }
    }
  ]
}